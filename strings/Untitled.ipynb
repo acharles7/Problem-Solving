{
 "cells": [
  {
   "cell_type": "code",
   "execution_count": 1,
   "metadata": {},
   "outputs": [],
   "source": [
    "def removePunctuations(string):\n",
    "    punctuations = '''!()-[]{};:'\"\\,<>./?@#$%^&*_~'''\n",
    "    output = \"\"\n",
    "    for char in string:\n",
    "        if char not in punctuations:\n",
    "            output += char\n",
    "    return output.lower()  "
   ]
  },
  {
   "cell_type": "code",
   "execution_count": 108,
   "metadata": {},
   "outputs": [
    {
     "name": "stdout",
     "output_type": "stream",
     "text": [
      "test 3\n",
      "a 2\n",
      "is 2\n",
      "not 1\n",
      "that 1\n",
      "this 1\n",
      "\n"
     ]
    }
   ],
   "source": [
    "def uniqueWords(string):\n",
    "    # remove punctuations from string\n",
    "    string = removePunctuations(string)\n",
    "    \n",
    "    # Word : Count dictionary\n",
    "    word_dic = {}\n",
    "    for word in string.split(' '):\n",
    "        word_dic[word] = word_dic.get(word, 0) + 1\n",
    "    \n",
    "    # Count: all words with same count in Reversed Order\n",
    "    count_dict = {}\n",
    "    for k, v in sorted(word_dic.items(), reverse=True, key= lambda r: r[1]): \n",
    "        if v in count_dict: \n",
    "            count_dict[v].append((k, v)) \n",
    "        else: \n",
    "            count_dict[v] = [(k, v)] \n",
    "\n",
    "    # Lexographical ordering of unique words's count in descending order\n",
    "    unique_count = []\n",
    "    for k, v in count_dict.items():\n",
    "        unique_count.extend(sorted(v))\n",
    "    \n",
    "    return ''.join([str(k+\" \"+str(v)+ \"\\n\") for k, v in unique_count])\n",
    "\n",
    "s = \"This is a test. That is not a test. Test\"\n",
    "s1 = \"From the moment the first immigrants arrived on these shores, generations of parents have worked hard and sacrificed whatever is necessary so that their children could have the same chances they had; or the chances they never had. Because while we could never ensure that our children would be rich or successful; while we could never be positive that they would do better than their parents, America is about making it possible to give them the chance. To give every child the opportunity to try. Education is still the foundation of this opportunity. And the most basic building block that holds that foundation together is still reading. At the dawn of the 21st century, in a world where knowledge truly is power and literacy is the skill that unlocks the gates of opportunity and success, we all have a responsibility as parents and librarians, educators and citizens, to instill in our children a love of reading so that we can give them the chance to fulfill their dreams.\"\n",
    "print(uniqueWords(s))\n",
    "\n"
   ]
  },
  {
   "cell_type": "code",
   "execution_count": 41,
   "metadata": {},
   "outputs": [
    {
     "name": "stdout",
     "output_type": "stream",
     "text": [
      "0\n",
      "1\n",
      "2\n",
      "Count: 3\n"
     ]
    }
   ],
   "source": [
    "def university(arrival, duration):\n",
    "    lis = list(zip(arrival, duration))\n",
    "    act_time = sorted(lis, key=lambda l:l[1])\n",
    "    \n",
    "    i = 0\n",
    "    print(i)\n",
    "    count = 1\n",
    "    for j in range(len(arrival)):\n",
    "        if arrival[j] >= duration[i]:\n",
    "            print(j)\n",
    "            i = j\n",
    "            count += 1\n",
    "    return count\n",
    "    \n",
    "    \n",
    "arrival = [1, 3, 5]\n",
    "duration = [2, 2, 2]\n",
    "\n",
    "print(\"Count:\", university(arrival, duration))"
   ]
  },
  {
   "cell_type": "code",
   "execution_count": null,
   "metadata": {},
   "outputs": [],
   "source": []
  },
  {
   "cell_type": "code",
   "execution_count": null,
   "metadata": {},
   "outputs": [],
   "source": []
  },
  {
   "cell_type": "code",
   "execution_count": null,
   "metadata": {},
   "outputs": [],
   "source": []
  },
  {
   "cell_type": "code",
   "execution_count": null,
   "metadata": {},
   "outputs": [],
   "source": []
  }
 ],
 "metadata": {
  "kernelspec": {
   "display_name": "Python 3",
   "language": "python",
   "name": "python3"
  },
  "language_info": {
   "codemirror_mode": {
    "name": "ipython",
    "version": 3
   },
   "file_extension": ".py",
   "mimetype": "text/x-python",
   "name": "python",
   "nbconvert_exporter": "python",
   "pygments_lexer": "ipython3",
   "version": "3.6.5"
  }
 },
 "nbformat": 4,
 "nbformat_minor": 2
}
