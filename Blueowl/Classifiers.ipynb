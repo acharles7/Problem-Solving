{
 "cells": [
  {
   "cell_type": "code",
   "execution_count": 71,
   "metadata": {},
   "outputs": [],
   "source": [
    "import os\n",
    "import numpy as np\n",
    "import pandas as pd\n",
    "from numpy.random import RandomState\n",
    "from sklearn.naive_bayes import GaussianNB\n",
    "from sklearn.neighbors import KNeighborsClassifier\n",
    "from sklearn.tree import DecisionTreeClassifier \n",
    "from sklearn.ensemble import RandomForestClassifier\n",
    "from sklearn.model_selection import train_test_split\n",
    "from sklearn.metrics import classification_report\n",
    "from sklearn.preprocessing import LabelEncoder"
   ]
  },
  {
   "cell_type": "code",
   "execution_count": 72,
   "metadata": {},
   "outputs": [
    {
     "name": "stdout",
     "output_type": "stream",
     "text": [
      "There are 11615 rows and 21 columns\n"
     ]
    },
    {
     "data": {
      "text/html": [
       "<div>\n",
       "<style scoped>\n",
       "    .dataframe tbody tr th:only-of-type {\n",
       "        vertical-align: middle;\n",
       "    }\n",
       "\n",
       "    .dataframe tbody tr th {\n",
       "        vertical-align: top;\n",
       "    }\n",
       "\n",
       "    .dataframe thead th {\n",
       "        text-align: right;\n",
       "    }\n",
       "</style>\n",
       "<table border=\"1\" class=\"dataframe\">\n",
       "  <thead>\n",
       "    <tr style=\"text-align: right;\">\n",
       "      <th></th>\n",
       "      <th>CustomerID</th>\n",
       "      <th>FirstName</th>\n",
       "      <th>LastName</th>\n",
       "      <th>AddressLine1</th>\n",
       "      <th>City</th>\n",
       "      <th>StateProvinceName</th>\n",
       "      <th>CountryRegionName</th>\n",
       "      <th>PostalCode</th>\n",
       "      <th>PhoneNumber</th>\n",
       "      <th>BirthDate</th>\n",
       "      <th>...</th>\n",
       "      <th>Occupation</th>\n",
       "      <th>Gender</th>\n",
       "      <th>MaritalStatus</th>\n",
       "      <th>HomeOwnerFlag</th>\n",
       "      <th>NumberCarsOwned</th>\n",
       "      <th>NumberChildrenAtHome</th>\n",
       "      <th>TotalChildren</th>\n",
       "      <th>YearlyIncome</th>\n",
       "      <th>AveMonthSpend</th>\n",
       "      <th>BikeBuyer</th>\n",
       "    </tr>\n",
       "  </thead>\n",
       "  <tbody>\n",
       "    <tr>\n",
       "      <td>0</td>\n",
       "      <td>0</td>\n",
       "      <td>317</td>\n",
       "      <td>308</td>\n",
       "      <td>2734</td>\n",
       "      <td>197</td>\n",
       "      <td>31</td>\n",
       "      <td>0</td>\n",
       "      <td>73</td>\n",
       "      <td>52</td>\n",
       "      <td>4087</td>\n",
       "      <td>...</td>\n",
       "      <td>3</td>\n",
       "      <td>1</td>\n",
       "      <td>0</td>\n",
       "      <td>1</td>\n",
       "      <td>0</td>\n",
       "      <td>0</td>\n",
       "      <td>2</td>\n",
       "      <td>10182</td>\n",
       "      <td>64</td>\n",
       "      <td>0</td>\n",
       "    </tr>\n",
       "    <tr>\n",
       "      <td>1</td>\n",
       "      <td>1</td>\n",
       "      <td>218</td>\n",
       "      <td>90</td>\n",
       "      <td>1327</td>\n",
       "      <td>217</td>\n",
       "      <td>43</td>\n",
       "      <td>0</td>\n",
       "      <td>41</td>\n",
       "      <td>0</td>\n",
       "      <td>3892</td>\n",
       "      <td>...</td>\n",
       "      <td>3</td>\n",
       "      <td>1</td>\n",
       "      <td>1</td>\n",
       "      <td>0</td>\n",
       "      <td>1</td>\n",
       "      <td>3</td>\n",
       "      <td>3</td>\n",
       "      <td>7810</td>\n",
       "      <td>92</td>\n",
       "      <td>1</td>\n",
       "    </tr>\n",
       "    <tr>\n",
       "      <td>2</td>\n",
       "      <td>2</td>\n",
       "      <td>543</td>\n",
       "      <td>273</td>\n",
       "      <td>4632</td>\n",
       "      <td>112</td>\n",
       "      <td>38</td>\n",
       "      <td>0</td>\n",
       "      <td>107</td>\n",
       "      <td>74</td>\n",
       "      <td>3945</td>\n",
       "      <td>...</td>\n",
       "      <td>3</td>\n",
       "      <td>1</td>\n",
       "      <td>0</td>\n",
       "      <td>1</td>\n",
       "      <td>1</td>\n",
       "      <td>3</td>\n",
       "      <td>3</td>\n",
       "      <td>6918</td>\n",
       "      <td>98</td>\n",
       "      <td>0</td>\n",
       "    </tr>\n",
       "    <tr>\n",
       "      <td>3</td>\n",
       "      <td>3</td>\n",
       "      <td>136</td>\n",
       "      <td>319</td>\n",
       "      <td>866</td>\n",
       "      <td>167</td>\n",
       "      <td>24</td>\n",
       "      <td>0</td>\n",
       "      <td>21</td>\n",
       "      <td>52</td>\n",
       "      <td>4479</td>\n",
       "      <td>...</td>\n",
       "      <td>3</td>\n",
       "      <td>0</td>\n",
       "      <td>1</td>\n",
       "      <td>0</td>\n",
       "      <td>1</td>\n",
       "      <td>0</td>\n",
       "      <td>0</td>\n",
       "      <td>6384</td>\n",
       "      <td>25</td>\n",
       "      <td>0</td>\n",
       "    </tr>\n",
       "    <tr>\n",
       "      <td>4</td>\n",
       "      <td>4</td>\n",
       "      <td>283</td>\n",
       "      <td>6</td>\n",
       "      <td>1693</td>\n",
       "      <td>146</td>\n",
       "      <td>24</td>\n",
       "      <td>0</td>\n",
       "      <td>16</td>\n",
       "      <td>74</td>\n",
       "      <td>4019</td>\n",
       "      <td>...</td>\n",
       "      <td>3</td>\n",
       "      <td>0</td>\n",
       "      <td>1</td>\n",
       "      <td>1</td>\n",
       "      <td>1</td>\n",
       "      <td>0</td>\n",
       "      <td>0</td>\n",
       "      <td>6209</td>\n",
       "      <td>29</td>\n",
       "      <td>1</td>\n",
       "    </tr>\n",
       "  </tbody>\n",
       "</table>\n",
       "<p>5 rows × 21 columns</p>\n",
       "</div>"
      ],
      "text/plain": [
       "   CustomerID  FirstName  LastName  AddressLine1  City  StateProvinceName  \\\n",
       "0           0        317       308          2734   197                 31   \n",
       "1           1        218        90          1327   217                 43   \n",
       "2           2        543       273          4632   112                 38   \n",
       "3           3        136       319           866   167                 24   \n",
       "4           4        283         6          1693   146                 24   \n",
       "\n",
       "   CountryRegionName  PostalCode  PhoneNumber  BirthDate  ...  Occupation  \\\n",
       "0                  0          73           52       4087  ...           3   \n",
       "1                  0          41            0       3892  ...           3   \n",
       "2                  0         107           74       3945  ...           3   \n",
       "3                  0          21           52       4479  ...           3   \n",
       "4                  0          16           74       4019  ...           3   \n",
       "\n",
       "   Gender  MaritalStatus  HomeOwnerFlag  NumberCarsOwned  \\\n",
       "0       1              0              1                0   \n",
       "1       1              1              0                1   \n",
       "2       1              0              1                1   \n",
       "3       0              1              0                1   \n",
       "4       0              1              1                1   \n",
       "\n",
       "   NumberChildrenAtHome  TotalChildren  YearlyIncome  AveMonthSpend  BikeBuyer  \n",
       "0                     0              2         10182             64          0  \n",
       "1                     3              3          7810             92          1  \n",
       "2                     3              3          6918             98          0  \n",
       "3                     0              0          6384             25          0  \n",
       "4                     0              0          6209             29          1  \n",
       "\n",
       "[5 rows x 21 columns]"
      ]
     },
     "execution_count": 72,
     "metadata": {},
     "output_type": "execute_result"
    }
   ],
   "source": [
    "data = pd.read_csv('train_encode.csv', delimiter=',')\n",
    "nRow, nCol = data.shape\n",
    "print(f'There are {nRow} rows and {nCol} columns')\n",
    "data.head(5)"
   ]
  },
  {
   "cell_type": "code",
   "execution_count": 73,
   "metadata": {},
   "outputs": [
    {
     "name": "stdout",
     "output_type": "stream",
     "text": [
      "There are 4904 rows and 20 columns\n"
     ]
    },
    {
     "data": {
      "text/html": [
       "<div>\n",
       "<style scoped>\n",
       "    .dataframe tbody tr th:only-of-type {\n",
       "        vertical-align: middle;\n",
       "    }\n",
       "\n",
       "    .dataframe tbody tr th {\n",
       "        vertical-align: top;\n",
       "    }\n",
       "\n",
       "    .dataframe thead th {\n",
       "        text-align: right;\n",
       "    }\n",
       "</style>\n",
       "<table border=\"1\" class=\"dataframe\">\n",
       "  <thead>\n",
       "    <tr style=\"text-align: right;\">\n",
       "      <th></th>\n",
       "      <th>CustomerID</th>\n",
       "      <th>FirstName</th>\n",
       "      <th>LastName</th>\n",
       "      <th>AddressLine1</th>\n",
       "      <th>City</th>\n",
       "      <th>StateProvinceName</th>\n",
       "      <th>CountryRegionName</th>\n",
       "      <th>PostalCode</th>\n",
       "      <th>PhoneNumber</th>\n",
       "      <th>BirthDate</th>\n",
       "      <th>Education</th>\n",
       "      <th>Occupation</th>\n",
       "      <th>Gender</th>\n",
       "      <th>MaritalStatus</th>\n",
       "      <th>HomeOwnerFlag</th>\n",
       "      <th>NumberCarsOwned</th>\n",
       "      <th>NumberChildrenAtHome</th>\n",
       "      <th>TotalChildren</th>\n",
       "      <th>YearlyIncome</th>\n",
       "      <th>AveMonthSpend</th>\n",
       "    </tr>\n",
       "  </thead>\n",
       "  <tbody>\n",
       "    <tr>\n",
       "      <td>0</td>\n",
       "      <td>0</td>\n",
       "      <td>193</td>\n",
       "      <td>92</td>\n",
       "      <td>2854</td>\n",
       "      <td>236</td>\n",
       "      <td>18</td>\n",
       "      <td>0</td>\n",
       "      <td>29</td>\n",
       "      <td>21</td>\n",
       "      <td>2600</td>\n",
       "      <td>0</td>\n",
       "      <td>3</td>\n",
       "      <td>0</td>\n",
       "      <td>1</td>\n",
       "      <td>1</td>\n",
       "      <td>4</td>\n",
       "      <td>5</td>\n",
       "      <td>5</td>\n",
       "      <td>3139</td>\n",
       "      <td>66</td>\n",
       "    </tr>\n",
       "    <tr>\n",
       "      <td>1</td>\n",
       "      <td>1</td>\n",
       "      <td>318</td>\n",
       "      <td>181</td>\n",
       "      <td>2746</td>\n",
       "      <td>67</td>\n",
       "      <td>25</td>\n",
       "      <td>0</td>\n",
       "      <td>55</td>\n",
       "      <td>41</td>\n",
       "      <td>2214</td>\n",
       "      <td>0</td>\n",
       "      <td>3</td>\n",
       "      <td>1</td>\n",
       "      <td>1</td>\n",
       "      <td>1</td>\n",
       "      <td>1</td>\n",
       "      <td>0</td>\n",
       "      <td>0</td>\n",
       "      <td>3584</td>\n",
       "      <td>49</td>\n",
       "    </tr>\n",
       "    <tr>\n",
       "      <td>2</td>\n",
       "      <td>2</td>\n",
       "      <td>518</td>\n",
       "      <td>32</td>\n",
       "      <td>1251</td>\n",
       "      <td>91</td>\n",
       "      <td>25</td>\n",
       "      <td>0</td>\n",
       "      <td>67</td>\n",
       "      <td>0</td>\n",
       "      <td>2043</td>\n",
       "      <td>0</td>\n",
       "      <td>3</td>\n",
       "      <td>1</td>\n",
       "      <td>1</td>\n",
       "      <td>0</td>\n",
       "      <td>1</td>\n",
       "      <td>0</td>\n",
       "      <td>0</td>\n",
       "      <td>3711</td>\n",
       "      <td>45</td>\n",
       "    </tr>\n",
       "    <tr>\n",
       "      <td>3</td>\n",
       "      <td>3</td>\n",
       "      <td>145</td>\n",
       "      <td>113</td>\n",
       "      <td>139</td>\n",
       "      <td>67</td>\n",
       "      <td>25</td>\n",
       "      <td>0</td>\n",
       "      <td>55</td>\n",
       "      <td>7</td>\n",
       "      <td>1993</td>\n",
       "      <td>0</td>\n",
       "      <td>3</td>\n",
       "      <td>1</td>\n",
       "      <td>0</td>\n",
       "      <td>1</td>\n",
       "      <td>4</td>\n",
       "      <td>4</td>\n",
       "      <td>4</td>\n",
       "      <td>3186</td>\n",
       "      <td>117</td>\n",
       "    </tr>\n",
       "    <tr>\n",
       "      <td>4</td>\n",
       "      <td>4</td>\n",
       "      <td>542</td>\n",
       "      <td>19</td>\n",
       "      <td>3517</td>\n",
       "      <td>173</td>\n",
       "      <td>37</td>\n",
       "      <td>5</td>\n",
       "      <td>200</td>\n",
       "      <td>1122</td>\n",
       "      <td>2560</td>\n",
       "      <td>0</td>\n",
       "      <td>1</td>\n",
       "      <td>0</td>\n",
       "      <td>1</td>\n",
       "      <td>0</td>\n",
       "      <td>3</td>\n",
       "      <td>0</td>\n",
       "      <td>3</td>\n",
       "      <td>3658</td>\n",
       "      <td>20</td>\n",
       "    </tr>\n",
       "  </tbody>\n",
       "</table>\n",
       "</div>"
      ],
      "text/plain": [
       "   CustomerID  FirstName  LastName  AddressLine1  City  StateProvinceName  \\\n",
       "0           0        193        92          2854   236                 18   \n",
       "1           1        318       181          2746    67                 25   \n",
       "2           2        518        32          1251    91                 25   \n",
       "3           3        145       113           139    67                 25   \n",
       "4           4        542        19          3517   173                 37   \n",
       "\n",
       "   CountryRegionName  PostalCode  PhoneNumber  BirthDate  Education  \\\n",
       "0                  0          29           21       2600          0   \n",
       "1                  0          55           41       2214          0   \n",
       "2                  0          67            0       2043          0   \n",
       "3                  0          55            7       1993          0   \n",
       "4                  5         200         1122       2560          0   \n",
       "\n",
       "   Occupation  Gender  MaritalStatus  HomeOwnerFlag  NumberCarsOwned  \\\n",
       "0           3       0              1              1                4   \n",
       "1           3       1              1              1                1   \n",
       "2           3       1              1              0                1   \n",
       "3           3       1              0              1                4   \n",
       "4           1       0              1              0                3   \n",
       "\n",
       "   NumberChildrenAtHome  TotalChildren  YearlyIncome  AveMonthSpend  \n",
       "0                     5              5          3139             66  \n",
       "1                     0              0          3584             49  \n",
       "2                     0              0          3711             45  \n",
       "3                     4              4          3186            117  \n",
       "4                     0              3          3658             20  "
      ]
     },
     "execution_count": 73,
     "metadata": {},
     "output_type": "execute_result"
    }
   ],
   "source": [
    "test = pd.read_csv('test_encode.csv', delimiter=',')\n",
    "nRow, nCol = test.shape\n",
    "print(f'There are {nRow} rows and {nCol} columns')\n",
    "test.head(5)"
   ]
  },
  {
   "cell_type": "code",
   "execution_count": null,
   "metadata": {},
   "outputs": [],
   "source": []
  },
  {
   "cell_type": "code",
   "execution_count": 74,
   "metadata": {},
   "outputs": [],
   "source": [
    "X = data.iloc[:,:20]  \n",
    "y = data.iloc[:, 20]"
   ]
  },
  {
   "cell_type": "code",
   "execution_count": 75,
   "metadata": {},
   "outputs": [
    {
     "data": {
      "text/html": [
       "<div>\n",
       "<style scoped>\n",
       "    .dataframe tbody tr th:only-of-type {\n",
       "        vertical-align: middle;\n",
       "    }\n",
       "\n",
       "    .dataframe tbody tr th {\n",
       "        vertical-align: top;\n",
       "    }\n",
       "\n",
       "    .dataframe thead th {\n",
       "        text-align: right;\n",
       "    }\n",
       "</style>\n",
       "<table border=\"1\" class=\"dataframe\">\n",
       "  <thead>\n",
       "    <tr style=\"text-align: right;\">\n",
       "      <th></th>\n",
       "      <th>CustomerID</th>\n",
       "      <th>FirstName</th>\n",
       "      <th>LastName</th>\n",
       "      <th>AddressLine1</th>\n",
       "      <th>City</th>\n",
       "      <th>StateProvinceName</th>\n",
       "      <th>CountryRegionName</th>\n",
       "      <th>PostalCode</th>\n",
       "      <th>PhoneNumber</th>\n",
       "      <th>BirthDate</th>\n",
       "      <th>Education</th>\n",
       "      <th>Occupation</th>\n",
       "      <th>Gender</th>\n",
       "      <th>MaritalStatus</th>\n",
       "      <th>HomeOwnerFlag</th>\n",
       "      <th>NumberCarsOwned</th>\n",
       "      <th>NumberChildrenAtHome</th>\n",
       "      <th>TotalChildren</th>\n",
       "      <th>YearlyIncome</th>\n",
       "      <th>AveMonthSpend</th>\n",
       "    </tr>\n",
       "  </thead>\n",
       "  <tbody>\n",
       "    <tr>\n",
       "      <td>0</td>\n",
       "      <td>0</td>\n",
       "      <td>317</td>\n",
       "      <td>308</td>\n",
       "      <td>2734</td>\n",
       "      <td>197</td>\n",
       "      <td>31</td>\n",
       "      <td>0</td>\n",
       "      <td>73</td>\n",
       "      <td>52</td>\n",
       "      <td>4087</td>\n",
       "      <td>0</td>\n",
       "      <td>3</td>\n",
       "      <td>1</td>\n",
       "      <td>0</td>\n",
       "      <td>1</td>\n",
       "      <td>0</td>\n",
       "      <td>0</td>\n",
       "      <td>2</td>\n",
       "      <td>10182</td>\n",
       "      <td>64</td>\n",
       "    </tr>\n",
       "    <tr>\n",
       "      <td>1</td>\n",
       "      <td>1</td>\n",
       "      <td>218</td>\n",
       "      <td>90</td>\n",
       "      <td>1327</td>\n",
       "      <td>217</td>\n",
       "      <td>43</td>\n",
       "      <td>0</td>\n",
       "      <td>41</td>\n",
       "      <td>0</td>\n",
       "      <td>3892</td>\n",
       "      <td>0</td>\n",
       "      <td>3</td>\n",
       "      <td>1</td>\n",
       "      <td>1</td>\n",
       "      <td>0</td>\n",
       "      <td>1</td>\n",
       "      <td>3</td>\n",
       "      <td>3</td>\n",
       "      <td>7810</td>\n",
       "      <td>92</td>\n",
       "    </tr>\n",
       "    <tr>\n",
       "      <td>2</td>\n",
       "      <td>2</td>\n",
       "      <td>543</td>\n",
       "      <td>273</td>\n",
       "      <td>4632</td>\n",
       "      <td>112</td>\n",
       "      <td>38</td>\n",
       "      <td>0</td>\n",
       "      <td>107</td>\n",
       "      <td>74</td>\n",
       "      <td>3945</td>\n",
       "      <td>0</td>\n",
       "      <td>3</td>\n",
       "      <td>1</td>\n",
       "      <td>0</td>\n",
       "      <td>1</td>\n",
       "      <td>1</td>\n",
       "      <td>3</td>\n",
       "      <td>3</td>\n",
       "      <td>6918</td>\n",
       "      <td>98</td>\n",
       "    </tr>\n",
       "    <tr>\n",
       "      <td>3</td>\n",
       "      <td>3</td>\n",
       "      <td>136</td>\n",
       "      <td>319</td>\n",
       "      <td>866</td>\n",
       "      <td>167</td>\n",
       "      <td>24</td>\n",
       "      <td>0</td>\n",
       "      <td>21</td>\n",
       "      <td>52</td>\n",
       "      <td>4479</td>\n",
       "      <td>0</td>\n",
       "      <td>3</td>\n",
       "      <td>0</td>\n",
       "      <td>1</td>\n",
       "      <td>0</td>\n",
       "      <td>1</td>\n",
       "      <td>0</td>\n",
       "      <td>0</td>\n",
       "      <td>6384</td>\n",
       "      <td>25</td>\n",
       "    </tr>\n",
       "    <tr>\n",
       "      <td>4</td>\n",
       "      <td>4</td>\n",
       "      <td>283</td>\n",
       "      <td>6</td>\n",
       "      <td>1693</td>\n",
       "      <td>146</td>\n",
       "      <td>24</td>\n",
       "      <td>0</td>\n",
       "      <td>16</td>\n",
       "      <td>74</td>\n",
       "      <td>4019</td>\n",
       "      <td>0</td>\n",
       "      <td>3</td>\n",
       "      <td>0</td>\n",
       "      <td>1</td>\n",
       "      <td>1</td>\n",
       "      <td>1</td>\n",
       "      <td>0</td>\n",
       "      <td>0</td>\n",
       "      <td>6209</td>\n",
       "      <td>29</td>\n",
       "    </tr>\n",
       "  </tbody>\n",
       "</table>\n",
       "</div>"
      ],
      "text/plain": [
       "   CustomerID  FirstName  LastName  AddressLine1  City  StateProvinceName  \\\n",
       "0           0        317       308          2734   197                 31   \n",
       "1           1        218        90          1327   217                 43   \n",
       "2           2        543       273          4632   112                 38   \n",
       "3           3        136       319           866   167                 24   \n",
       "4           4        283         6          1693   146                 24   \n",
       "\n",
       "   CountryRegionName  PostalCode  PhoneNumber  BirthDate  Education  \\\n",
       "0                  0          73           52       4087          0   \n",
       "1                  0          41            0       3892          0   \n",
       "2                  0         107           74       3945          0   \n",
       "3                  0          21           52       4479          0   \n",
       "4                  0          16           74       4019          0   \n",
       "\n",
       "   Occupation  Gender  MaritalStatus  HomeOwnerFlag  NumberCarsOwned  \\\n",
       "0           3       1              0              1                0   \n",
       "1           3       1              1              0                1   \n",
       "2           3       1              0              1                1   \n",
       "3           3       0              1              0                1   \n",
       "4           3       0              1              1                1   \n",
       "\n",
       "   NumberChildrenAtHome  TotalChildren  YearlyIncome  AveMonthSpend  \n",
       "0                     0              2         10182             64  \n",
       "1                     3              3          7810             92  \n",
       "2                     3              3          6918             98  \n",
       "3                     0              0          6384             25  \n",
       "4                     0              0          6209             29  "
      ]
     },
     "execution_count": 75,
     "metadata": {},
     "output_type": "execute_result"
    }
   ],
   "source": [
    "X.head(5)"
   ]
  },
  {
   "cell_type": "code",
   "execution_count": 76,
   "metadata": {},
   "outputs": [
    {
     "data": {
      "text/plain": [
       "0    0\n",
       "1    1\n",
       "2    0\n",
       "3    0\n",
       "4    1\n",
       "Name: BikeBuyer, dtype: int64"
      ]
     },
     "execution_count": 76,
     "metadata": {},
     "output_type": "execute_result"
    }
   ],
   "source": [
    "y.head(5)"
   ]
  },
  {
   "cell_type": "markdown",
   "metadata": {},
   "source": [
    "### Training Data"
   ]
  },
  {
   "cell_type": "code",
   "execution_count": 77,
   "metadata": {},
   "outputs": [
    {
     "data": {
      "text/html": [
       "<div>\n",
       "<style scoped>\n",
       "    .dataframe tbody tr th:only-of-type {\n",
       "        vertical-align: middle;\n",
       "    }\n",
       "\n",
       "    .dataframe tbody tr th {\n",
       "        vertical-align: top;\n",
       "    }\n",
       "\n",
       "    .dataframe thead th {\n",
       "        text-align: right;\n",
       "    }\n",
       "</style>\n",
       "<table border=\"1\" class=\"dataframe\">\n",
       "  <thead>\n",
       "    <tr style=\"text-align: right;\">\n",
       "      <th></th>\n",
       "      <th>CustomerID</th>\n",
       "      <th>FirstName</th>\n",
       "      <th>LastName</th>\n",
       "      <th>AddressLine1</th>\n",
       "      <th>City</th>\n",
       "      <th>StateProvinceName</th>\n",
       "      <th>CountryRegionName</th>\n",
       "      <th>PostalCode</th>\n",
       "      <th>PhoneNumber</th>\n",
       "      <th>BirthDate</th>\n",
       "      <th>Education</th>\n",
       "      <th>Occupation</th>\n",
       "      <th>Gender</th>\n",
       "      <th>MaritalStatus</th>\n",
       "      <th>HomeOwnerFlag</th>\n",
       "      <th>NumberCarsOwned</th>\n",
       "      <th>NumberChildrenAtHome</th>\n",
       "      <th>TotalChildren</th>\n",
       "      <th>YearlyIncome</th>\n",
       "      <th>AveMonthSpend</th>\n",
       "    </tr>\n",
       "  </thead>\n",
       "  <tbody>\n",
       "    <tr>\n",
       "      <td>4432</td>\n",
       "      <td>4432</td>\n",
       "      <td>625</td>\n",
       "      <td>306</td>\n",
       "      <td>1875</td>\n",
       "      <td>77</td>\n",
       "      <td>26</td>\n",
       "      <td>2</td>\n",
       "      <td>84</td>\n",
       "      <td>50</td>\n",
       "      <td>3632</td>\n",
       "      <td>3</td>\n",
       "      <td>0</td>\n",
       "      <td>1</td>\n",
       "      <td>1</td>\n",
       "      <td>1</td>\n",
       "      <td>2</td>\n",
       "      <td>2</td>\n",
       "      <td>2</td>\n",
       "      <td>3368</td>\n",
       "      <td>63</td>\n",
       "    </tr>\n",
       "    <tr>\n",
       "      <td>1320</td>\n",
       "      <td>1320</td>\n",
       "      <td>457</td>\n",
       "      <td>233</td>\n",
       "      <td>3429</td>\n",
       "      <td>147</td>\n",
       "      <td>43</td>\n",
       "      <td>0</td>\n",
       "      <td>35</td>\n",
       "      <td>64</td>\n",
       "      <td>3851</td>\n",
       "      <td>0</td>\n",
       "      <td>3</td>\n",
       "      <td>0</td>\n",
       "      <td>0</td>\n",
       "      <td>1</td>\n",
       "      <td>1</td>\n",
       "      <td>3</td>\n",
       "      <td>3</td>\n",
       "      <td>6573</td>\n",
       "      <td>57</td>\n",
       "    </tr>\n",
       "    <tr>\n",
       "      <td>2642</td>\n",
       "      <td>2642</td>\n",
       "      <td>323</td>\n",
       "      <td>131</td>\n",
       "      <td>4409</td>\n",
       "      <td>207</td>\n",
       "      <td>34</td>\n",
       "      <td>2</td>\n",
       "      <td>181</td>\n",
       "      <td>81</td>\n",
       "      <td>4761</td>\n",
       "      <td>0</td>\n",
       "      <td>0</td>\n",
       "      <td>1</td>\n",
       "      <td>0</td>\n",
       "      <td>1</td>\n",
       "      <td>0</td>\n",
       "      <td>0</td>\n",
       "      <td>0</td>\n",
       "      <td>4741</td>\n",
       "      <td>50</td>\n",
       "    </tr>\n",
       "    <tr>\n",
       "      <td>10527</td>\n",
       "      <td>10527</td>\n",
       "      <td>389</td>\n",
       "      <td>54</td>\n",
       "      <td>5747</td>\n",
       "      <td>261</td>\n",
       "      <td>8</td>\n",
       "      <td>4</td>\n",
       "      <td>311</td>\n",
       "      <td>70</td>\n",
       "      <td>3544</td>\n",
       "      <td>0</td>\n",
       "      <td>4</td>\n",
       "      <td>1</td>\n",
       "      <td>0</td>\n",
       "      <td>1</td>\n",
       "      <td>0</td>\n",
       "      <td>0</td>\n",
       "      <td>1</td>\n",
       "      <td>4176</td>\n",
       "      <td>54</td>\n",
       "    </tr>\n",
       "    <tr>\n",
       "      <td>6032</td>\n",
       "      <td>6032</td>\n",
       "      <td>368</td>\n",
       "      <td>287</td>\n",
       "      <td>8459</td>\n",
       "      <td>106</td>\n",
       "      <td>15</td>\n",
       "      <td>3</td>\n",
       "      <td>25</td>\n",
       "      <td>10</td>\n",
       "      <td>1505</td>\n",
       "      <td>2</td>\n",
       "      <td>3</td>\n",
       "      <td>0</td>\n",
       "      <td>0</td>\n",
       "      <td>1</td>\n",
       "      <td>2</td>\n",
       "      <td>1</td>\n",
       "      <td>4</td>\n",
       "      <td>5863</td>\n",
       "      <td>35</td>\n",
       "    </tr>\n",
       "  </tbody>\n",
       "</table>\n",
       "</div>"
      ],
      "text/plain": [
       "       CustomerID  FirstName  LastName  AddressLine1  City  StateProvinceName  \\\n",
       "4432         4432        625       306          1875    77                 26   \n",
       "1320         1320        457       233          3429   147                 43   \n",
       "2642         2642        323       131          4409   207                 34   \n",
       "10527       10527        389        54          5747   261                  8   \n",
       "6032         6032        368       287          8459   106                 15   \n",
       "\n",
       "       CountryRegionName  PostalCode  PhoneNumber  BirthDate  Education  \\\n",
       "4432                   2          84           50       3632          3   \n",
       "1320                   0          35           64       3851          0   \n",
       "2642                   2         181           81       4761          0   \n",
       "10527                  4         311           70       3544          0   \n",
       "6032                   3          25           10       1505          2   \n",
       "\n",
       "       Occupation  Gender  MaritalStatus  HomeOwnerFlag  NumberCarsOwned  \\\n",
       "4432            0       1              1              1                2   \n",
       "1320            3       0              0              1                1   \n",
       "2642            0       1              0              1                0   \n",
       "10527           4       1              0              1                0   \n",
       "6032            3       0              0              1                2   \n",
       "\n",
       "       NumberChildrenAtHome  TotalChildren  YearlyIncome  AveMonthSpend  \n",
       "4432                      2              2          3368             63  \n",
       "1320                      3              3          6573             57  \n",
       "2642                      0              0          4741             50  \n",
       "10527                     0              1          4176             54  \n",
       "6032                      1              4          5863             35  "
      ]
     },
     "execution_count": 77,
     "metadata": {},
     "output_type": "execute_result"
    }
   ],
   "source": [
    "X_train, X_test, y_train, y_test = train_test_split(X, y, test_size=0.3, random_state=4)\n",
    "X_test.head(5)"
   ]
  },
  {
   "cell_type": "markdown",
   "metadata": {},
   "source": [
    "### Original Test Data"
   ]
  },
  {
   "cell_type": "code",
   "execution_count": 84,
   "metadata": {},
   "outputs": [
    {
     "name": "stdout",
     "output_type": "stream",
     "text": [
      "There are 4904 rows and 2 columns\n"
     ]
    }
   ],
   "source": [
    "testX = test\n",
    "solution = pd.read_csv('final/solution.csv', delimiter=',')\n",
    "nRow, nCol = solution.shape\n",
    "print(f'There are {nRow} rows and {nCol} columns')\n",
    "testY = solution.iloc[:,1]"
   ]
  },
  {
   "cell_type": "markdown",
   "metadata": {},
   "source": [
    "### Naive Bayes"
   ]
  },
  {
   "cell_type": "code",
   "execution_count": 85,
   "metadata": {},
   "outputs": [],
   "source": [
    "naiveBayes = GaussianNB()\n",
    "nb_pred = naiveBayes.fit(X_train, y_train).predict(X_test)"
   ]
  },
  {
   "cell_type": "code",
   "execution_count": 105,
   "metadata": {},
   "outputs": [
    {
     "name": "stdout",
     "output_type": "stream",
     "text": [
      "Accuracy on training set: 0.765\n",
      "Accuracy on test set: 0.775\n",
      "              precision    recall  f1-score   support\n",
      "\n",
      "           0       0.79      0.91      0.84      2332\n",
      "           1       0.73      0.50      0.60      1153\n",
      "\n",
      "    accuracy                           0.78      3485\n",
      "   macro avg       0.76      0.71      0.72      3485\n",
      "weighted avg       0.77      0.78      0.76      3485\n",
      "\n"
     ]
    }
   ],
   "source": [
    "print(\"Accuracy on training set: {:.3f}\".format(naiveBayes.score(X_train, y_train)))\n",
    "print(\"Accuracy on test set: {:.3f}\".format(naiveBayes.score(X_test, y_test)))\n",
    "print(classification_report(y_test, nb_pred))"
   ]
  },
  {
   "cell_type": "code",
   "execution_count": 106,
   "metadata": {},
   "outputs": [
    {
     "name": "stdout",
     "output_type": "stream",
     "text": [
      "              precision    recall  f1-score   support\n",
      "\n",
      "           0       0.78      0.93      0.85      3312\n",
      "           1       0.76      0.44      0.56      1592\n",
      "\n",
      "    accuracy                           0.77      4904\n",
      "   macro avg       0.77      0.69      0.70      4904\n",
      "weighted avg       0.77      0.77      0.75      4904\n",
      "\n"
     ]
    }
   ],
   "source": [
    "nb_test_pred = naiveBayes.predict(testX)\n",
    "print(classification_report(testY, nb_test_pred))"
   ]
  },
  {
   "cell_type": "code",
   "execution_count": 107,
   "metadata": {},
   "outputs": [],
   "source": [
    "nb_baseline = pd.read_csv('final/sample_submission.csv', delimiter=',')\n",
    "nb_baseline['BikeBuyer'] = nb_test_pred\n",
    "nb_baseline.to_csv('final/nb_baseline.csv', index=False)"
   ]
  },
  {
   "cell_type": "markdown",
   "metadata": {},
   "source": [
    "### KNN"
   ]
  },
  {
   "cell_type": "code",
   "execution_count": 88,
   "metadata": {},
   "outputs": [],
   "source": [
    "knn = KNeighborsClassifier()\n",
    "knn_pred = knn.fit(X_train, y_train).predict(X_test)"
   ]
  },
  {
   "cell_type": "code",
   "execution_count": 89,
   "metadata": {},
   "outputs": [
    {
     "name": "stdout",
     "output_type": "stream",
     "text": [
      "Accuracy on training set: 0.784\n",
      "Accuracy on test set: 0.689\n",
      "              precision    recall  f1-score   support\n",
      "\n",
      "           0       0.75      0.80      0.78      2332\n",
      "           1       0.53      0.46      0.49      1153\n",
      "\n",
      "    accuracy                           0.69      3485\n",
      "   macro avg       0.64      0.63      0.63      3485\n",
      "weighted avg       0.68      0.69      0.68      3485\n",
      "\n"
     ]
    }
   ],
   "source": [
    "print(\"Accuracy on training set: {:.3f}\".format(knn.score(X_train, y_train)))\n",
    "print(\"Accuracy on test set: {:.3f}\".format(knn.score(X_test, y_test)))\n",
    "print(classification_report(y_test, knn_pred))"
   ]
  },
  {
   "cell_type": "code",
   "execution_count": 90,
   "metadata": {},
   "outputs": [
    {
     "name": "stdout",
     "output_type": "stream",
     "text": [
      "              precision    recall  f1-score   support\n",
      "\n",
      "           0       0.67      0.92      0.78      3312\n",
      "           1       0.31      0.08      0.12      1592\n",
      "\n",
      "    accuracy                           0.64      4904\n",
      "   macro avg       0.49      0.50      0.45      4904\n",
      "weighted avg       0.55      0.64      0.56      4904\n",
      "\n"
     ]
    }
   ],
   "source": [
    "knn_test_pred = knn.predict(testX)\n",
    "print(classification_report(testY, knn_test_pred))"
   ]
  },
  {
   "cell_type": "markdown",
   "metadata": {},
   "source": [
    "### Random Forest"
   ]
  },
  {
   "cell_type": "code",
   "execution_count": 91,
   "metadata": {},
   "outputs": [
    {
     "name": "stderr",
     "output_type": "stream",
     "text": [
      "/Library/Frameworks/Python.framework/Versions/3.7/lib/python3.7/site-packages/sklearn/ensemble/forest.py:245: FutureWarning: The default value of n_estimators will change from 10 in version 0.20 to 100 in 0.22.\n",
      "  \"10 in version 0.20 to 100 in 0.22.\", FutureWarning)\n"
     ]
    }
   ],
   "source": [
    "randomForest = RandomForestClassifier()\n",
    "rf_pred = randomForest.fit(X_train, y_train).predict(X_test)"
   ]
  },
  {
   "cell_type": "code",
   "execution_count": 92,
   "metadata": {},
   "outputs": [
    {
     "name": "stdout",
     "output_type": "stream",
     "text": [
      "Accuracy on training set: 0.982\n",
      "Accuracy on test set: 0.788\n",
      "              precision    recall  f1-score   support\n",
      "\n",
      "           0       0.80      0.91      0.85      2332\n",
      "           1       0.74      0.55      0.63      1153\n",
      "\n",
      "    accuracy                           0.79      3485\n",
      "   macro avg       0.77      0.73      0.74      3485\n",
      "weighted avg       0.78      0.79      0.78      3485\n",
      "\n"
     ]
    }
   ],
   "source": [
    "print(\"Accuracy on training set: {:.3f}\".format(randomForest.score(X_train, y_train)))\n",
    "print(\"Accuracy on test set: {:.3f}\".format(randomForest.score(X_test, y_test)))\n",
    "print(classification_report(y_test, rf_pred))"
   ]
  },
  {
   "cell_type": "code",
   "execution_count": 93,
   "metadata": {},
   "outputs": [
    {
     "name": "stdout",
     "output_type": "stream",
     "text": [
      "              precision    recall  f1-score   support\n",
      "\n",
      "           0       0.73      0.94      0.82      3312\n",
      "           1       0.70      0.28      0.40      1592\n",
      "\n",
      "    accuracy                           0.73      4904\n",
      "   macro avg       0.72      0.61      0.61      4904\n",
      "weighted avg       0.72      0.73      0.69      4904\n",
      "\n"
     ]
    }
   ],
   "source": [
    "rf_test_pred = randomForest.predict(testX)\n",
    "print(classification_report(testY, rf_test_pred))"
   ]
  },
  {
   "cell_type": "code",
   "execution_count": 104,
   "metadata": {},
   "outputs": [],
   "source": [
    "rf_baseline = pd.read_csv('final/sample_submission.csv', delimiter=',')\n",
    "rf_baseline['BikeBuyer'] = rf_test_pred\n",
    "rf_baseline.to_csv('final/rf_baseline.csv', index=False)"
   ]
  },
  {
   "cell_type": "code",
   "execution_count": null,
   "metadata": {},
   "outputs": [],
   "source": []
  },
  {
   "cell_type": "markdown",
   "metadata": {},
   "source": [
    "### Decision Tree"
   ]
  },
  {
   "cell_type": "code",
   "execution_count": 96,
   "metadata": {},
   "outputs": [],
   "source": [
    "decisionTree = DecisionTreeClassifier()\n",
    "dt_pred = decisionTree.fit(X_train, y_train).predict(X_test)"
   ]
  },
  {
   "cell_type": "code",
   "execution_count": 97,
   "metadata": {},
   "outputs": [
    {
     "name": "stdout",
     "output_type": "stream",
     "text": [
      "Accuracy on training set: 1.000\n",
      "Accuracy on test set: 0.726\n",
      "              precision    recall  f1-score   support\n",
      "\n",
      "           0       0.80      0.78      0.79      2332\n",
      "           1       0.58      0.61      0.60      1153\n",
      "\n",
      "    accuracy                           0.73      3485\n",
      "   macro avg       0.69      0.70      0.69      3485\n",
      "weighted avg       0.73      0.73      0.73      3485\n",
      "\n"
     ]
    }
   ],
   "source": [
    "print(\"Accuracy on training set: {:.3f}\".format(decisionTree.score(X_train, y_train)))\n",
    "print(\"Accuracy on test set: {:.3f}\".format(decisionTree.score(X_test, y_test)))\n",
    "print(classification_report(y_test, dt_pred))"
   ]
  },
  {
   "cell_type": "code",
   "execution_count": 98,
   "metadata": {},
   "outputs": [
    {
     "name": "stdout",
     "output_type": "stream",
     "text": [
      "              precision    recall  f1-score   support\n",
      "\n",
      "           0       0.77      0.78      0.77      3312\n",
      "           1       0.53      0.50      0.51      1592\n",
      "\n",
      "    accuracy                           0.69      4904\n",
      "   macro avg       0.65      0.64      0.64      4904\n",
      "weighted avg       0.69      0.69      0.69      4904\n",
      "\n"
     ]
    }
   ],
   "source": [
    "dt_test_pred = decisionTree.predict(testX)\n",
    "print(classification_report(testY, dt_test_pred))"
   ]
  },
  {
   "cell_type": "markdown",
   "metadata": {},
   "source": [
    "### Varification"
   ]
  },
  {
   "cell_type": "code",
   "execution_count": 112,
   "metadata": {},
   "outputs": [
    {
     "name": "stdout",
     "output_type": "stream",
     "text": [
      "3565\n"
     ]
    }
   ],
   "source": [
    "print((solution.iloc[:,1] == rf_baseline.iloc[:,1]).sum())"
   ]
  },
  {
   "cell_type": "code",
   "execution_count": 113,
   "metadata": {},
   "outputs": [
    {
     "name": "stdout",
     "output_type": "stream",
     "text": [
      "              precision    recall  f1-score   support\n",
      "\n",
      "           0       0.73      0.94      0.82      3312\n",
      "           1       0.70      0.28      0.40      1592\n",
      "\n",
      "    accuracy                           0.73      4904\n",
      "   macro avg       0.72      0.61      0.61      4904\n",
      "weighted avg       0.72      0.73      0.69      4904\n",
      "\n"
     ]
    }
   ],
   "source": [
    "print(classification_report(solution.iloc[:,1], rf_baseline.iloc[:,1]))"
   ]
  },
  {
   "cell_type": "code",
   "execution_count": 114,
   "metadata": {},
   "outputs": [
    {
     "name": "stdout",
     "output_type": "stream",
     "text": [
      "              precision    recall  f1-score   support\n",
      "\n",
      "           0       0.78      0.93      0.85      3312\n",
      "           1       0.76      0.44      0.56      1592\n",
      "\n",
      "    accuracy                           0.77      4904\n",
      "   macro avg       0.77      0.69      0.70      4904\n",
      "weighted avg       0.77      0.77      0.75      4904\n",
      "\n"
     ]
    }
   ],
   "source": [
    "print(classification_report(solution.iloc[:,1], nb_baseline.iloc[:,1]))"
   ]
  },
  {
   "cell_type": "code",
   "execution_count": null,
   "metadata": {},
   "outputs": [],
   "source": []
  }
 ],
 "metadata": {
  "kernelspec": {
   "display_name": "Python 3",
   "language": "python",
   "name": "python3"
  },
  "language_info": {
   "codemirror_mode": {
    "name": "ipython",
    "version": 3
   },
   "file_extension": ".py",
   "mimetype": "text/x-python",
   "name": "python",
   "nbconvert_exporter": "python",
   "pygments_lexer": "ipython3",
   "version": "3.7.0b1"
  }
 },
 "nbformat": 4,
 "nbformat_minor": 2
}
