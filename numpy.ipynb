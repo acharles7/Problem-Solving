{
 "cells": [
  {
   "cell_type": "markdown",
   "metadata": {},
   "source": [
    "## Numpy"
   ]
  },
  {
   "cell_type": "code",
   "execution_count": 1,
   "metadata": {},
   "outputs": [],
   "source": [
    "import numpy as np"
   ]
  },
  {
   "cell_type": "code",
   "execution_count": 9,
   "metadata": {},
   "outputs": [],
   "source": [
    "a = np.array([[1,2],[3,4]], dtype=np.float64)\n",
    "b = np.array([[5,6],[7,8]], dtype=np.float64)"
   ]
  },
  {
   "cell_type": "code",
   "execution_count": 18,
   "metadata": {},
   "outputs": [
    {
     "name": "stdout",
     "output_type": "stream",
     "text": [
      "[[1.         1.41421356]\n",
      " [1.73205081 2.        ]]\n",
      "[[ 6.  8.]\n",
      " [10. 12.]]\n"
     ]
    }
   ],
   "source": [
    "print(np.sqrt(a))\n",
    "print(np.add(a,b))"
   ]
  },
  {
   "cell_type": "code",
   "execution_count": 23,
   "metadata": {},
   "outputs": [
    {
     "name": "stdout",
     "output_type": "stream",
     "text": [
      "59\n",
      "[[36 41]\n",
      " [64 73]]\n",
      "[33 59]\n"
     ]
    }
   ],
   "source": [
    "x = np.array([[2,3],[4,5]])\n",
    "y = np.array([[6,7],[8,9]])\n",
    "\n",
    "v = np.array([6,7])\n",
    "u = np.array([4,5])\n",
    "\n",
    "print(np.dot(v,u))\n",
    "print(x.dot(y))\n",
    "print(np.dot(x,v))"
   ]
  },
  {
   "cell_type": "code",
   "execution_count": 48,
   "metadata": {},
   "outputs": [
    {
     "name": "stdout",
     "output_type": "stream",
     "text": [
      "[[ 2  2  4]\n",
      " [ 5  5  7]\n",
      " [ 8  8 10]\n",
      " [11 11 13]]\n",
      "[[1 0 1]\n",
      " [1 0 1]\n",
      " [1 0 1]\n",
      " [1 0 1]]\n",
      "[[ 2  2  4]\n",
      " [ 5  5  7]\n",
      " [ 8  8 10]\n",
      " [11 11 13]]\n"
     ]
    }
   ],
   "source": [
    "p = np.array([[1,2,3],[4,5,6],[7,8,9],[10,11,12]])\n",
    "w = np.array([1,0,1])\n",
    "q = np.empty_like(p)\n",
    "\n",
    "for i in range(4):\n",
    "    q[i, :] = p[i, :] + w\n",
    "    \n",
    "print(q)\n",
    "ww = np.tile(w,(4,1))\n",
    "print(ww)\n",
    "print(np.add(p,ww))"
   ]
  },
  {
   "cell_type": "code",
   "execution_count": 49,
   "metadata": {},
   "outputs": [
    {
     "name": "stdout",
     "output_type": "stream",
     "text": [
      "[[ 2  2  4]\n",
      " [ 5  5  7]\n",
      " [ 8  8 10]\n",
      " [11 11 13]]\n"
     ]
    }
   ],
   "source": [
    "g = p + w\n",
    "print(g)"
   ]
  },
  {
   "cell_type": "code",
   "execution_count": null,
   "metadata": {},
   "outputs": [],
   "source": []
  },
  {
   "cell_type": "code",
   "execution_count": 2,
   "metadata": {},
   "outputs": [],
   "source": [
    "a = np.array([1,2,3])\n",
    "b = np.array([4,5,6])"
   ]
  },
  {
   "cell_type": "code",
   "execution_count": 3,
   "metadata": {},
   "outputs": [
    {
     "data": {
      "text/plain": [
       "array([ 4, 10, 18])"
      ]
     },
     "execution_count": 3,
     "metadata": {},
     "output_type": "execute_result"
    }
   ],
   "source": [
    "a*b"
   ]
  },
  {
   "cell_type": "markdown",
   "metadata": {},
   "source": [
    "## SciPy"
   ]
  },
  {
   "cell_type": "code",
   "execution_count": 67,
   "metadata": {},
   "outputs": [],
   "source": [
    "from scipy.misc import imread, imsave, imresize, imshow\n",
    "import matplotlib.pyplot as plt"
   ]
  },
  {
   "cell_type": "code",
   "execution_count": 68,
   "metadata": {},
   "outputs": [
    {
     "name": "stderr",
     "output_type": "stream",
     "text": [
      "/anaconda3/lib/python3.6/site-packages/ipykernel_launcher.py:1: DeprecationWarning: `imread` is deprecated!\n",
      "`imread` is deprecated in SciPy 1.0.0, and will be removed in 1.2.0.\n",
      "Use ``imageio.imread`` instead.\n",
      "  \"\"\"Entry point for launching an IPython kernel.\n"
     ]
    }
   ],
   "source": [
    "img = imread('cat.jpg')"
   ]
  },
  {
   "cell_type": "code",
   "execution_count": 69,
   "metadata": {},
   "outputs": [
    {
     "name": "stdout",
     "output_type": "stream",
     "text": [
      "uint8 (340, 325, 3)\n"
     ]
    }
   ],
   "source": [
    "print(img.dtype, img.shape)"
   ]
  },
  {
   "cell_type": "code",
   "execution_count": 70,
   "metadata": {},
   "outputs": [
    {
     "name": "stderr",
     "output_type": "stream",
     "text": [
      "/anaconda3/lib/python3.6/site-packages/ipykernel_launcher.py:2: DeprecationWarning: `imresize` is deprecated!\n",
      "`imresize` is deprecated in SciPy 1.0.0, and will be removed in 1.2.0.\n",
      "Use ``skimage.transform.resize`` instead.\n",
      "  \n"
     ]
    }
   ],
   "source": [
    "img_tinted = img*[1, 0.95, 0.90]\n",
    "img_tinted_resize = imresize(img_tinted, (300,300))"
   ]
  },
  {
   "cell_type": "code",
   "execution_count": 75,
   "metadata": {},
   "outputs": [
    {
     "data": {
      "text/plain": [
       "<matplotlib.image.AxesImage at 0xb17a53198>"
      ]
     },
     "execution_count": 75,
     "metadata": {},
     "output_type": "execute_result"
    },
    {
     "data": {
      "image/png": "[encoded data removed]",
      "text/plain": [
       "<Figure size 432x288 with 1 Axes>"
      ]
     },
     "metadata": {},
     "output_type": "display_data"
    }
   ],
   "source": [
    "plt.imshow(img)"
   ]
  },
  {
   "cell_type": "code",
   "execution_count": 76,
   "metadata": {},
   "outputs": [
    {
     "name": "stderr",
     "output_type": "stream",
     "text": [
      "Clipping input data to the valid range for imshow with RGB data ([0..1] for floats or [0..255] for integers).\n"
     ]
    },
    {
     "data": {
      "text/plain": [
       "<matplotlib.image.AxesImage at 0xb17acdcc0>"
      ]
     },
     "execution_count": 76,
     "metadata": {},
     "output_type": "execute_result"
    },
    {
     "data": {
      "image/png": "[encoded data removed]",
      "text/plain": [
       "<Figure size 432x288 with 1 Axes>"
      ]
     },
     "metadata": {},
     "output_type": "display_data"
    }
   ],
   "source": [
    "plt.imshow(img_tinted)"
   ]
  },
  {
   "cell_type": "code",
   "execution_count": 78,
   "metadata": {},
   "outputs": [],
   "source": [
    "from scipy.spatial.distance import pdist, squareform"
   ]
  },
  {
   "cell_type": "code",
   "execution_count": 79,
   "metadata": {},
   "outputs": [
    {
     "name": "stdout",
     "output_type": "stream",
     "text": [
      "[[1 2]\n",
      " [3 4]\n",
      " [5 6]]\n"
     ]
    }
   ],
   "source": [
    "X = np.array([[1,2],[3,4],[5,6]])\n",
    "print(X)"
   ]
  },
  {
   "cell_type": "code",
   "execution_count": 81,
   "metadata": {},
   "outputs": [],
   "source": [
    "d = squareform(pdist(X, 'euclidean'))"
   ]
  },
  {
   "cell_type": "code",
   "execution_count": 82,
   "metadata": {},
   "outputs": [
    {
     "name": "stdout",
     "output_type": "stream",
     "text": [
      "[[0.         2.82842712 5.65685425]\n",
      " [2.82842712 0.         2.82842712]\n",
      " [5.65685425 2.82842712 0.        ]]\n"
     ]
    }
   ],
   "source": [
    "print(d)"
   ]
  },
  {
   "cell_type": "code",
   "execution_count": 39,
   "metadata": {},
   "outputs": [
    {
     "name": "stdout",
     "output_type": "stream",
     "text": [
      "{50: 5, 32: 5, 43: 7}\n"
     ]
    },
    {
     "data": {
      "text/plain": [
       "82"
      ]
     },
     "execution_count": 39,
     "metadata": {},
     "output_type": "execute_result"
    }
   ],
   "source": [
    "from collections import defaultdict\n",
    "\n",
    "def getSum(num):\n",
    "    sumed = 0\n",
    "    for n in str(num):\n",
    "        sumed += int(n)\n",
    "    return sumed\n",
    "\n",
    "def findPair(arr):\n",
    "    dic = {}\n",
    "    count = defaultdict(list)\n",
    "    output = []\n",
    "    \n",
    "    for num in arr:\n",
    "        if num not in dic:\n",
    "            dic[num] = getSum(num)\n",
    "        else:\n",
    "            \n",
    "    print(dic)\n",
    "    \n",
    "    for k,v in dic.items():\n",
    "        if v not in count:\n",
    "            count[v] = [k]\n",
    "        else:\n",
    "            count[v] += [k]\n",
    "    for k, v in count.items():\n",
    "        if len(v) <= 1:\n",
    "            output.append(-1)\n",
    "        elif len(v) == 2:\n",
    "            output.append(sum(v))\n",
    "        else:\n",
    "            firstMax = max(v)\n",
    "            v.remove(firstMax)\n",
    "            secondMax = max(v)\n",
    "            output.append(firstMax + secondMax)\n",
    "    return max(output)\n",
    "            \n",
    "\n",
    "    \n",
    "arr = [50, 50, 32, 43]\n",
    "findPair(arr)"
   ]
  },
  {
   "cell_type": "markdown",
   "metadata": {},
   "source": [
    "if (str.charAt(start % str.length()) == ' ')\n",
    "{\n",
    "    start++;\n",
    "} \n",
    "else\n",
    "{\n",
    "    while (start > 0 && str.charAt((start-1) % str.length())  != ' ')\n",
    "    {\n",
    "        start--;\n",
    "    }\n",
    "}\n",
    "\n",
    "return start / str.length();"
   ]
  },
  {
   "cell_type": "code",
   "execution_count": 36,
   "metadata": {},
   "outputs": [
    {
     "name": "stdout",
     "output_type": "stream",
     "text": [
      "len 18\n",
      "8 r\n",
      "14 o\n",
      "20 l\n",
      "26 r\n",
      "32 o\n",
      "38 l\n",
      "36\n"
     ]
    },
    {
     "data": {
      "text/plain": [
       "2"
      ]
     },
     "execution_count": 36,
     "metadata": {},
     "output_type": "execute_result"
    }
   ],
   "source": [
    "def getCount(rows, cols, sentence):\n",
    "    s = ''\n",
    "    for word in sentence:\n",
    "        s += word+' '\n",
    "    n = len(s)\n",
    "    print('len', n)\n",
    "\n",
    "    start = 0\n",
    "    for i in range(rows):\n",
    "        start = start + cols\n",
    "        print(start, s[start%n])\n",
    "        if s[start%n] == ' ':\n",
    "            start += 1\n",
    "        else:\n",
    "            while start > 0 and s[(start-1)%n] != ' ':\n",
    "                start -= 1\n",
    "    print(start)\n",
    "    return start//n\n",
    "        \n",
    "\n",
    "rows = 6\n",
    "cols = 8\n",
    "sentence = [\"hello\", \"world\", 'Ilove']\n",
    "getCount(rows, cols, sentence)"
   ]
  },
  {
   "cell_type": "code",
   "execution_count": 16,
   "metadata": {},
   "outputs": [
    {
     "data": {
      "text/plain": [
       "'ccd'"
      ]
     },
     "execution_count": 16,
     "metadata": {},
     "output_type": "execute_result"
    }
   ],
   "source": [
    "def removeConsecutive(s):\n",
    "    out = ''\n",
    "    i = 0\n",
    "    while i < len(s):\n",
    "        if i<len(s)-2 and s[i]*3 == s[i:i+3]:\n",
    "            i = i+3\n",
    "        else:\n",
    "            out += s[i]\n",
    "            i += 1\n",
    "    if len(out) == len(s):\n",
    "        return out\n",
    "    else:\n",
    "        return removeConsecutive(out)\n",
    "\n",
    "s = 'aabbbaccddddccc'\n",
    "removeConsecutive(s)"
   ]
  },
  {
   "cell_type": "code",
   "execution_count": 46,
   "metadata": {},
   "outputs": [
    {
     "name": "stdout",
     "output_type": "stream",
     "text": [
      "[[4, 0, 1], [3, 0, 2], [2, 2, 1], [2, 1, 1], [1, 2, 2], [1, 2, 0], [1, 1, 2], [1, 1, 0], [1, 0, 0]]\n"
     ]
    },
    {
     "data": {
      "text/plain": [
       "[0, 2, 1]"
      ]
     },
     "execution_count": 46,
     "metadata": {},
     "output_type": "execute_result"
    }
   ],
   "source": [
    "# ret = [-1] * len(workers)\n",
    "# workers_acquired = [False] * len(workers)\n",
    "# bikes_acquired = [False] * len(bikes)\n",
    "# while distances:\n",
    "#     dist, worker_index, bike_index = distances.pop()\n",
    "#     if workers_acquired[worker_index]:\n",
    "#         continue\n",
    "#     if bikes_acquired[bike_index]:\n",
    "#         continue\n",
    "#     ret[worker_index] = bike_index\n",
    "#     workers_acquired[worker_index] = True\n",
    "#     bikes_acquired[bike_index] = True\n",
    "\n",
    "# return ret\n",
    "def getDistance(p1, p2):\n",
    "    distance = abs(p1[0] - p2[0]) + abs(p1[1] - p2[1])\n",
    "    return distance\n",
    "    \n",
    "def assignBikes(workers, bikes):\n",
    "    bike_assigned = []\n",
    "    store = {}\n",
    "    distance = []\n",
    "    for worker_id, worker in enumerate(workers):\n",
    "        for bike_id, bike in enumerate(bikes):\n",
    "            distance.append([getDistance(worker, bike), worker_id, bike_id])\n",
    "    distance.sort(reverse=True)\n",
    "    print(distance)\n",
    "    \n",
    "    out = [-1]*len(workers)\n",
    "    workers_acquired = [False]*len(workers)\n",
    "    bikes_acquired = [False]*len(bikes)\n",
    "    \n",
    "    while distance:\n",
    "        dist, worker_ids, bike_ids = distance.pop()\n",
    "        if workers_acquired[worker_ids]:\n",
    "            continue\n",
    "        if bikes_acquired[bike_ids]:\n",
    "            continue\n",
    "        out[worker_ids] = bike_ids\n",
    "        workers_acquired[worker_ids] = True\n",
    "        bikes_acquired[bike_ids] = True\n",
    "    return out\n",
    "    \n",
    "workers = [[0,0],[1,1],[2,0]]\n",
    "bikes = [[1,0],[2,2],[2,1]]\n",
    "assignBikes(workers, bikes)\n",
    "# ans 0,2,1"
   ]
  },
  {
   "cell_type": "code",
   "execution_count": null,
   "metadata": {},
   "outputs": [],
   "source": []
  },
  {
   "cell_type": "code",
   "execution_count": null,
   "metadata": {},
   "outputs": [],
   "source": []
  },
  {
   "cell_type": "code",
   "execution_count": 48,
   "metadata": {},
   "outputs": [],
   "source": [
    "def isBST(node, MIN = float('-inf'), MAX = float('inf')):\n",
    "    if not node:\n",
    "        return True\n",
    "    if node.val <= MIN or node.val >= MAX:\n",
    "        return False\n",
    "    return isBST(node.left, MIN, node.val) and isBST(node.right, node.val, MAX)\n",
    "\n",
    "return isBST(root)       "
   ]
  },
  {
   "cell_type": "code",
   "execution_count": null,
   "metadata": {},
   "outputs": [],
   "source": []
  },
  {
   "cell_type": "code",
   "execution_count": 70,
   "metadata": {},
   "outputs": [
    {
     "data": {
      "text/plain": [
       "{(4, 4), (5, 3), (7, 1), (9, -1), (10, -2)}"
      ]
     },
     "execution_count": 70,
     "metadata": {},
     "output_type": "execute_result"
    }
   ],
   "source": [
    "def countPair(nums, target):\n",
    "    pairs = set()\n",
    "    for num in nums:\n",
    "        complement = target-num\n",
    "        if complement in nums:\n",
    "            if num > complement:\n",
    "                pair = (num, complement)\n",
    "            else:\n",
    "                pair = (complement, num)\n",
    "            pairs.add(pair)\n",
    "    return pairs\n",
    "\n",
    "def countPair2(nums, target):\n",
    "    store = {}\n",
    "    pairs = set()\n",
    "    for num in nums:\n",
    "        if num not in store:\n",
    "            store[num] = 0\n",
    "        store[num] += 1\n",
    "    for num in store:\n",
    "        complement = target - num\n",
    "        if complement in store:\n",
    "            if num > complement:\n",
    "                pair = (num, complement)\n",
    "            else:\n",
    "                pair = (complement, num)\n",
    "            pairs.add(pair)\n",
    "    return pairs\n",
    "        \n",
    "    \n",
    "nums = [-2,10,6,4,9,7,5,3,1,7,0,4,-1]\n",
    "target = 8\n",
    "countPair2(nums, target)"
   ]
  },
  {
   "cell_type": "code",
   "execution_count": null,
   "metadata": {},
   "outputs": [],
   "source": []
  },
  {
   "cell_type": "code",
   "execution_count": null,
   "metadata": {},
   "outputs": [],
   "source": [
    "def threeSum(nums):\n",
    "    \n",
    "    def twoSum(array, target, index):\n",
    "        pairs = set()\n",
    "        store = {}\n",
    "        \n",
    "        \n",
    "        for i in range(index, )\n",
    "        \n",
    "        \n",
    "    used = set()\n",
    "    for i, num1 in enumerate(nums):\n",
    "        target = -nums[i]\n",
    "        if num1 not in used:\n",
    "            used.add(num1)\n",
    "            pair = twoSum(nums, target, i)  \n",
    "nums = [-1, 0, 1, 2, -1, -4]\n",
    "threeSum2(nums)"
   ]
  },
  {
   "cell_type": "code",
   "execution_count": 10,
   "metadata": {},
   "outputs": [
    {
     "name": "stdout",
     "output_type": "stream",
     "text": [
      "{(-2, -1, 3)}\n"
     ]
    }
   ],
   "source": [
    "def threeSum2(nums):\n",
    "    i = 0\n",
    "    output = set()\n",
    "    nums.sort()\n",
    "    while i < len(nums)-2:\n",
    "        j = i+1\n",
    "        k = len(nums)-1\n",
    "        while j < k:\n",
    "            target = nums[i] + nums[j] + nums[k] \n",
    "            if target == 0:\n",
    "                output.add(tuple([nums[i], nums[j], nums[k]]))\n",
    "                j += 1\n",
    "                k -= 1\n",
    "            elif target < 0:\n",
    "                j += 1\n",
    "            else:\n",
    "                k -= 1\n",
    "        i += 1\n",
    "    print(output)\n",
    "\n",
    "nums = [-1, 3, -2]\n",
    "threeSum2(nums)"
   ]
  },
  {
   "cell_type": "code",
   "execution_count": 45,
   "metadata": {},
   "outputs": [
    {
     "name": "stdout",
     "output_type": "stream",
     "text": [
      "[None, None, 2, None, None, None, None, None, None]\n",
      "[None, None, 2, 3, None, None, None, None, None]\n",
      "[None, None, 2, 3, 5, None, None, None, None]\n",
      "[None, None, 2, 3, 5, 8, None, None, None]\n",
      "[None, None, 2, 3, 5, 8, 13, None, None]\n",
      "[None, None, 2, 3, 5, 8, 13, 21, None]\n",
      "[None, None, 2, 3, 5, 8, 13, 21, 34]\n"
     ]
    },
    {
     "data": {
      "text/plain": [
       "34"
      ]
     },
     "execution_count": 45,
     "metadata": {},
     "output_type": "execute_result"
    }
   ],
   "source": [
    "# Recursive\n",
    "def fibonnaci(n):\n",
    "    if n == 0:\n",
    "        return 0\n",
    "    elif n == 1:\n",
    "        return 1\n",
    "    else:\n",
    "        return fibonnaci(n-1) + fibonnaci(n-2)\n",
    "\n",
    "# Iterative\n",
    "def fibonnaci2(n): \n",
    "    a = 0\n",
    "    b = 1\n",
    "    \n",
    "    if n == 0:\n",
    "        return a\n",
    "    for i in range(2, n+1):\n",
    "        c = a + b\n",
    "        a = b\n",
    "        b = c\n",
    "    return c\n",
    "# Dynamic\n",
    "\n",
    "def fibonnaci3(n, store):    \n",
    "    if store[n]:\n",
    "        return store[n]\n",
    "    if n < 2:\n",
    "        return 1\n",
    "    else:\n",
    "        store[n] = fibonnaci3(n-1, store) + fibonnaci3(n-2, store)\n",
    "    print(store)\n",
    "    return store[n]\n",
    "a = 8\n",
    "fibonnaci3(a, [None]*(a+1))\n",
    "# [0,1,2,3,5,8,13,21,34,55,89]"
   ]
  },
  {
   "cell_type": "code",
   "execution_count": 46,
   "metadata": {},
   "outputs": [
    {
     "name": "stdout",
     "output_type": "stream",
     "text": [
      "0 FIZZBUZZ\n",
      "1\n",
      "2\n",
      "3 FIZZ\n",
      "4\n",
      "5 BUZZ\n",
      "6 FIZZ\n",
      "7\n",
      "8\n",
      "9 FIZZ\n"
     ]
    }
   ],
   "source": [
    "#FizzBuzz\n",
    "\n",
    "def fizzbuzz(n):\n",
    "    for i in range(n):\n",
    "        if i%3 == 0 and i%5 == 0:\n",
    "            print(i, 'FIZZBUZZ')\n",
    "        elif i%3 == 0:\n",
    "            print(i, 'FIZZ')\n",
    "        elif i%5 == 0:\n",
    "            print(i, 'BUZZ')\n",
    "        else:\n",
    "            print(i)\n",
    "fizzbuzz(10)"
   ]
  },
  {
   "cell_type": "code",
   "execution_count": 51,
   "metadata": {},
   "outputs": [
    {
     "data": {
      "text/plain": [
       "0"
      ]
     },
     "execution_count": 51,
     "metadata": {},
     "output_type": "execute_result"
    }
   ],
   "source": [
    "# Binary Search\n",
    "\n",
    "def binarySearch(nums, value):\n",
    "    \n",
    "    l, r = 0, len(nums)-1\n",
    "    \n",
    "    while l <= r:\n",
    "        middle = (l + r)//2\n",
    "        if value < nums[middle]:\n",
    "            r = middle\n",
    "        elif value > nums[middle]:\n",
    "            l = middle + 1\n",
    "        else:\n",
    "            return middle\n",
    "    \n",
    "binarySearch([0,2,4,7,9,11,23,59,60,65], 0)"
   ]
  },
  {
   "cell_type": "code",
   "execution_count": null,
   "metadata": {},
   "outputs": [],
   "source": [
    "def makeZeroes(i, j, grid):\n",
    "    if i < 0 or j < 0 or i == len(grid) or j == len(grid[0]) or grid[i][j] == '0':\n",
    "        return\n",
    "    else:\n",
    "        grid[i][j] = '0'\n",
    "    makeZeroes(i+1, j, grid)\n",
    "    makeZeroes(i-1, j, grid)\n",
    "    makeZeroes(i, j+1, grid)\n",
    "    makeZeroes(i, j-1, grid)\n",
    "count = 0\n",
    "for i in range(len(grid)):\n",
    "    for j in range(len(grid[0])):\n",
    "        if grid[i][j] == '1':\n",
    "            count += 1\n",
    "            makeZeroes(i, j, grid)\n",
    "return count"
   ]
  },
  {
   "cell_type": "code",
   "execution_count": 76,
   "metadata": {},
   "outputs": [
    {
     "data": {
      "text/plain": [
       "9"
      ]
     },
     "execution_count": 76,
     "metadata": {},
     "output_type": "execute_result"
    }
   ],
   "source": [
    "def countWords(s):\n",
    "    i = 0\n",
    "    word_count = 0\n",
    "    inword = False\n",
    "    \n",
    "    while s[i] == ' ' and i < len(s)-1:\n",
    "        i += 1\n",
    "    while i < len(s):\n",
    "        if s[i] == ' ':\n",
    "            while s[i] == ' ' and  i < len(s)-1:\n",
    "                i += 1  \n",
    "            inword = False\n",
    "            word_count += 1        \n",
    "        else:\n",
    "            inword = True\n",
    "        i += 1\n",
    "    if inword:\n",
    "        word_count += 1\n",
    "    return word_count\n",
    "\n",
    "s = ' s a cat a god  dog lion  ioioio da'\n",
    "countWords(s)"
   ]
  },
  {
   "cell_type": "code",
   "execution_count": 82,
   "metadata": {},
   "outputs": [
    {
     "name": "stdout",
     "output_type": "stream",
     "text": [
      "1 2 3 6 9 8 7 4 5 "
     ]
    }
   ],
   "source": [
    "def spiralPrint(m, n, a) : \n",
    "    ''' k - starting row index \n",
    "        m - ending row index \n",
    "        l - starting column index \n",
    "        n - ending column index \n",
    "        i - iterator '''\n",
    "    k = 0\n",
    "    l = 0\n",
    "    while (k < m and l < n):     \n",
    "        # Print the first row from \n",
    "        # the remaining rows  \n",
    "        for i in range(l, n): \n",
    "            print(a[k][i], end = \" \") \n",
    "        k += 1\n",
    "  \n",
    "        # Print the last column from \n",
    "        # the remaining columns  \n",
    "        for i in range(k, m) : \n",
    "            print(a[i][n - 1], end = \" \") \n",
    "        n -= 1\n",
    "        # Print the last row from \n",
    "        # the remaining rows  \n",
    "        if ( k < m) : \n",
    "              \n",
    "            for i in range(n - 1, (l - 1), -1) : \n",
    "                print(a[m - 1][i], end = \" \") \n",
    "              \n",
    "            m -= 1\n",
    "        # Print the first column from \n",
    "        # the remaining columns  \n",
    "        if (l < n) : \n",
    "            for i in range(m - 1, k - 1, -1) : \n",
    "                print(a[i][l], end = \" \") \n",
    "              \n",
    "            l += 1"
   ]
  },
  {
   "cell_type": "code",
   "execution_count": 89,
   "metadata": {},
   "outputs": [
    {
     "name": "stdout",
     "output_type": "stream",
     "text": [
      "[1, 2, 3, 0, 0, 0, 9, 8, 7, 4, 5, 6]\n"
     ]
    }
   ],
   "source": [
    "''' k - starting row index \n",
    "    m - ending row index \n",
    "    l - starting column index \n",
    "    n - ending column index \n",
    "    i - iterator '''\n",
    "def spiral(mat):\n",
    "    k, m = 0, len(mat) # ROWS\n",
    "    l, n = 0, len(mat[0]) #COLS\n",
    "    out = []\n",
    "    while k < m and l < n:\n",
    "        for i in range(l, n):\n",
    "            out.append(mat[k][i])\n",
    "        k += 1\n",
    "        \n",
    "        for i in range(k, m):\n",
    "            out.append(mat[i][n-1])\n",
    "        n -=1\n",
    "        \n",
    "        if k < m:\n",
    "            for i in range(n-1, l-1, -1):\n",
    "                out.append(mat[m-1][i])\n",
    "            m -= 1\n",
    "        if l < n:\n",
    "            for i in range(m-1, k-1, -1):\n",
    "                out.append(mat[i][l])\n",
    "            l += 1\n",
    "    print(out)\n",
    "\n",
    "mat = [[1,2,3,0],\n",
    "       [4,5,6,0],\n",
    "       [7,8,9,0]]\n",
    "spiral(mat)"
   ]
  },
  {
   "cell_type": "code",
   "execution_count": null,
   "metadata": {},
   "outputs": [],
   "source": []
  },
  {
   "cell_type": "code",
   "execution_count": 96,
   "metadata": {},
   "outputs": [
    {
     "data": {
      "text/plain": [
       "1"
      ]
     },
     "execution_count": 96,
     "metadata": {},
     "output_type": "execute_result"
    }
   ],
   "source": [
    "def search(nums, target):\n",
    "    l, r = 0, len(nums) - 1\n",
    "        \n",
    "    while l <= r:\n",
    "        mid = l + (r-l) // 2\n",
    "        if nums[mid] == target:\n",
    "            return mid\n",
    "        elif nums[mid] >= nums[l]:\n",
    "            if target >= nums[l] and target <= nums[mid]:\n",
    "                r = mid - 1\n",
    "            else:\n",
    "                l = mid + 1\n",
    "        else:\n",
    "            if target >= nums[mid] and target <= nums[r]:\n",
    "                l = mid + 1\n",
    "            else:\n",
    "                r = mid - 1\n",
    "    return -1\n",
    "                \n",
    "\n",
    "nums = [4,5,6,7,0,1,2,3]\n",
    "target = 5\n",
    "search(nums, target)"
   ]
  },
  {
   "cell_type": "code",
   "execution_count": 5,
   "metadata": {},
   "outputs": [
    {
     "name": "stdout",
     "output_type": "stream",
     "text": [
      "[2, 4, 4, 4, 6, 6, 6, 6, 6]\n"
     ]
    }
   ],
   "source": [
    "def getArray(nums):\n",
    "    output = []\n",
    "    for i in range(1, len(nums),2):\n",
    "        output.extend([nums[i]]*nums[i-1])\n",
    "    print(output)\n",
    "\n",
    "nums = [1,2,3,4,5,6]\n",
    "getArray(nums)"
   ]
  },
  {
   "cell_type": "code",
   "execution_count": 15,
   "metadata": {},
   "outputs": [
    {
     "ename": "IndentationError",
     "evalue": "expected an indented block (<ipython-input-15-a5ccecd9b7e1>, line 16)",
     "output_type": "error",
     "traceback": [
      "\u001b[0;36m  File \u001b[0;32m\"<ipython-input-15-a5ccecd9b7e1>\"\u001b[0;36m, line \u001b[0;32m16\u001b[0m\n\u001b[0;31m    n = 4\u001b[0m\n\u001b[0m         ^\u001b[0m\n\u001b[0;31mIndentationError\u001b[0m\u001b[0;31m:\u001b[0m expected an indented block\n"
     ]
    }
   ],
   "source": [
    "# Generate non overlapping sets of up to k pairs of indices\n",
    "# return\n",
    "# k = 1 -> {(0,1), (0,2), (0,3), (1,2), (1,3), (2,3)}\n",
    "# k = 2 -> {(0,1)(1,2), (0,1)(1,3), (0,2)(2,3), (0,1)(2,3), (1,2)(2,3)}\n",
    "# k = 3 -> {(0,1)(1,2)(2,3)}\n",
    "\n",
    "def getPairs(n, k):\n",
    "    \n",
    "    nums = [i for i in range(n)]\n",
    "\n",
    "    for i in range(1, k+1):\n",
    "#         print(i, sep=' ')\n",
    "        for j in range(n):\n",
    "            for l in range(j+1, n):\n",
    "#                 print(nums[j], nums[l])\n",
    "n = 4\n",
    "k = 3\n",
    "getPairs(n, k)"
   ]
  },
  {
   "cell_type": "code",
   "execution_count": 14,
   "metadata": {},
   "outputs": [
    {
     "name": "stdout",
     "output_type": "stream",
     "text": [
      "2\n"
     ]
    },
    {
     "data": {
      "text/plain": [
       "False"
      ]
     },
     "execution_count": 14,
     "metadata": {},
     "output_type": "execute_result"
    }
   ],
   "source": [
    "import math\n",
    "def getPrime(n):\n",
    "    \n",
    "    if n < 2:\n",
    "        return False\n",
    "    \n",
    "    sqrt = int(math.sqrt(n))\n",
    "    print(sqrt)\n",
    "    for i in range(2, sqrt+1):\n",
    "        if n%i == 0:\n",
    "            return False\n",
    "    return True\n",
    "\n",
    "getPrime(6)"
   ]
  },
  {
   "cell_type": "code",
   "execution_count": 19,
   "metadata": {},
   "outputs": [
    {
     "ename": "IndentationError",
     "evalue": "expected an indented block (<ipython-input-19-bcea6d780d3c>, line 23)",
     "output_type": "error",
     "traceback": [
      "\u001b[0;36m  File \u001b[0;32m\"<ipython-input-19-bcea6d780d3c>\"\u001b[0;36m, line \u001b[0;32m23\u001b[0m\n\u001b[0;31m    return flags\u001b[0m\n\u001b[0m    ^\u001b[0m\n\u001b[0;31mIndentationError\u001b[0m\u001b[0;31m:\u001b[0m expected an indented block\n"
     ]
    }
   ],
   "source": [
    "#Sieve of Eratosthenes\n",
    "import math\n",
    "def crossOff(flags, prime):\n",
    "    for i in range(prime*prime, len(flags), prime):\n",
    "        flags[i] = False\n",
    "def nextPrime(flags, prime):\n",
    "    nxt = prime + 1\n",
    "    while nxt < len(flags) and not flags[nxt]:\n",
    "        nxt += 1\n",
    "    return nxt\n",
    "def getPrimes(n):\n",
    "    \n",
    "    flags = [True]*(n+1)\n",
    "    prime = 2\n",
    "    \n",
    "    while prime <= math.sqrt(n):\n",
    "        crossOff(flags, prime)\n",
    "        prime = nextPrime(flags, prime)\n",
    "    \n",
    "    for i in range(len(flags)):\n",
    "        if flags[i]:\n",
    "            print(i)\n",
    "    return flags\n",
    "getPrimes(25)"
   ]
  },
  {
   "cell_type": "code",
   "execution_count": 20,
   "metadata": {},
   "outputs": [
    {
     "name": "stdout",
     "output_type": "stream",
     "text": [
      "[2, 3, 5, 7, 11, 13, 17, 19, 23, 29, 31, 37, 41, 43, 47, 53, 59, 61, 67, 71, 73, 79, 83, 89, 97]\n"
     ]
    }
   ],
   "source": [
    "primes = []\n",
    "for num in range(2,101):\n",
    "    prime = True\n",
    "    for i in range(2,num):\n",
    "        if (num%i==0):\n",
    "            prime = False\n",
    "    if prime:\n",
    "        primes.append(num)\n",
    "print(primes)"
   ]
  },
  {
   "cell_type": "code",
   "execution_count": null,
   "metadata": {},
   "outputs": [],
   "source": []
  },
  {
   "cell_type": "code",
   "execution_count": null,
   "metadata": {},
   "outputs": [],
   "source": []
  },
  {
   "cell_type": "code",
   "execution_count": 30,
   "metadata": {},
   "outputs": [
    {
     "name": "stdout",
     "output_type": "stream",
     "text": [
      "[0, 0, 0, 0, 0, 0, 0, 0, 0, 0, 0, 0, 0, 0, 0, 0, 0, 0, 0, 0, 0, 0, 0, 0, 0, 0, 0, 0, 0, 0, 0, 0, 0, 0, 0, 0, 0, 0, 0, 0, 0, 0, 0, 0, 0, 0, 0, 0, 0, 0, 0]\n",
      "2 7 15\n",
      "4 7 15\n",
      "6 7 15\n",
      "8 7 15\n",
      "9 9 15\n",
      "11 16 15\n",
      "13 16 15\n",
      "15 16 15\n",
      "17 16 15\n",
      "17 16 15\n",
      "17 16 15\n",
      "17 18 15\n",
      "17 18 15\n",
      "17 20 15\n",
      "17 22 15\n",
      "17 22 17\n",
      "19 22 17\n",
      "19 22 17\n",
      "19 22 19\n",
      "21 26 26\n",
      "[0, 2, 2, 2, 4, 4, 6, 7, 9, 9, 9, 9, 9, 9, 9, 9, 9, 9, 9, 9, 11, 11, 13, 15, 15, 15, 15, 15, 15, 15, 15, 17, 17, 17, 19, 19, 19, 19, 19, 19, 19, 19, 19, 19, 19, 19, 19, 19, 19, 19, 21]\n"
     ]
    },
    {
     "data": {
      "text/plain": [
       "21"
      ]
     },
     "execution_count": 30,
     "metadata": {},
     "output_type": "execute_result"
    }
   ],
   "source": [
    "def minCost(days, costs, minimum):\n",
    "    pass\n",
    "\n",
    "\n",
    "def getMinimumCost(days, costs):\n",
    "    dp = [0]*(days[-1]+1)\n",
    "    \n",
    "    ptr = 0\n",
    "    print(dp)\n",
    "    for i in range(1, days[-1]+1):\n",
    "        if ptr < len(days) and i == days[ptr]:\n",
    "            prev_7 = dp[i-7] if i >= 7 else 0\n",
    "            prev_30 = dp[i-30] if i >= 30 else 0 \n",
    "            print(dp[i-1] + costs[0], prev_7 + costs[1], prev_30 + costs[2])\n",
    "            dp[i] = min(dp[i-1] + costs[0], prev_7 + costs[1], prev_30 + costs[2]) \n",
    "            ptr += 1\n",
    "        else:\n",
    "            dp[i] = dp[i-1]\n",
    "\n",
    "    print(dp)\n",
    "    return dp[-1]\n",
    "    \n",
    "    \n",
    "    \n",
    "\n",
    "days = [1,4,6,7,8,20,22, 23, 24, 25, 26, 27, 28, 29, 30, 31, 32, 33, 34,50] \n",
    "costs = [2,7,15]\n",
    "getMinimumCost(days, costs)"
   ]
  },
  {
   "cell_type": "code",
   "execution_count": 44,
   "metadata": {},
   "outputs": [
    {
     "name": "stdout",
     "output_type": "stream",
     "text": [
      "100 2 7\n",
      "100 2 8\n",
      "100 3 7\n",
      "100 3 8\n",
      "100 4 7\n",
      "100 4 8\n",
      "200 2 7\n",
      "200 2 8\n",
      "200 3 7\n",
      "200 3 8\n",
      "200 4 7\n",
      "200 4 8\n"
     ]
    }
   ],
   "source": [
    "from itertools import product\n",
    "\n",
    "param = [\n",
    "    (100, 200),\n",
    "    (2, 3, 4),\n",
    "    (7, 8)\n",
    "]\n",
    "\n",
    "for i, j, k in product(*param):\n",
    "    print(i, j, k)"
   ]
  },
  {
   "cell_type": "code",
   "execution_count": null,
   "metadata": {},
   "outputs": [],
   "source": []
  },
  {
   "cell_type": "code",
   "execution_count": null,
   "metadata": {},
   "outputs": [],
   "source": []
  },
  {
   "cell_type": "markdown",
   "metadata": {},
   "source": [
    "Given a directed, acyclic graph of N nodes.  Find all possible paths from node 0 to node N-1, and return them in any order.\n",
    "\n",
    "The graph is given as follows:  the nodes are 0, 1, ..., graph.length - 1.  graph[i] is a list of all nodes j for which the edge (i, j) exists.\n",
    "\n",
    "Example:\n",
    "Input: [[1,2], [3], [3], []] \n",
    "Output: [[0,1,3],[0,2,3]] \n",
    "Explanation: The graph looks like this:\n",
    "0--->1\n",
    "|    |\n",
    "v    v\n",
    "2--->3\n",
    "There are two paths: 0 -> 1 -> 3 and 0 -> 2 -> 3.\n",
    "Note:\n",
    "\n",
    "The number of nodes in the graph will be in the range [2, 15].\n",
    "You can print different paths in any order, but you should keep the order of nodes inside one path.\n",
    "[[4,3,1],[3,2,4],[3],[4],[]]\n",
    "\n",
    "ans = [[0,4],[0,3,4],[0,1,3,4],[0,1,2,3,4],[0,1,4]]"
   ]
  },
  {
   "cell_type": "code",
   "execution_count": 45,
   "metadata": {},
   "outputs": [
    {
     "ename": "NameError",
     "evalue": "name 'List' is not defined",
     "output_type": "error",
     "traceback": [
      "\u001b[0;31m---------------------------------------------------------------------------\u001b[0m",
      "\u001b[0;31mNameError\u001b[0m                                 Traceback (most recent call last)",
      "\u001b[0;32m<ipython-input-45-e8c9cc7420d5>\u001b[0m in \u001b[0;36m<module>\u001b[0;34m\u001b[0m\n\u001b[0;32m----> 1\u001b[0;31m \u001b[0;32mdef\u001b[0m \u001b[0mallPathsSourceTarget\u001b[0m\u001b[0;34m(\u001b[0m\u001b[0mself\u001b[0m\u001b[0;34m,\u001b[0m \u001b[0mgraph\u001b[0m\u001b[0;34m:\u001b[0m \u001b[0mList\u001b[0m\u001b[0;34m[\u001b[0m\u001b[0mList\u001b[0m\u001b[0;34m[\u001b[0m\u001b[0mint\u001b[0m\u001b[0;34m]\u001b[0m\u001b[0;34m]\u001b[0m\u001b[0;34m)\u001b[0m \u001b[0;34m->\u001b[0m \u001b[0mList\u001b[0m\u001b[0;34m[\u001b[0m\u001b[0mList\u001b[0m\u001b[0;34m[\u001b[0m\u001b[0mint\u001b[0m\u001b[0;34m]\u001b[0m\u001b[0;34m]\u001b[0m\u001b[0;34m:\u001b[0m\u001b[0;34m\u001b[0m\u001b[0m\n\u001b[0m\u001b[1;32m      2\u001b[0m         \u001b[0mdic\u001b[0m \u001b[0;34m=\u001b[0m \u001b[0;34m{\u001b[0m\u001b[0;34m}\u001b[0m\u001b[0;34m\u001b[0m\u001b[0m\n\u001b[1;32m      3\u001b[0m         \u001b[0;32mfor\u001b[0m \u001b[0mi\u001b[0m\u001b[0;34m,\u001b[0m \u001b[0mnode\u001b[0m \u001b[0;32min\u001b[0m \u001b[0menumerate\u001b[0m\u001b[0;34m(\u001b[0m\u001b[0mgraph\u001b[0m\u001b[0;34m)\u001b[0m\u001b[0;34m:\u001b[0m\u001b[0;34m\u001b[0m\u001b[0m\n\u001b[1;32m      4\u001b[0m             \u001b[0mdic\u001b[0m\u001b[0;34m[\u001b[0m\u001b[0mi\u001b[0m\u001b[0;34m]\u001b[0m \u001b[0;34m=\u001b[0m \u001b[0mnode\u001b[0m\u001b[0;34m\u001b[0m\u001b[0m\n\u001b[1;32m      5\u001b[0m         \u001b[0mprint\u001b[0m\u001b[0;34m(\u001b[0m\u001b[0mdic\u001b[0m\u001b[0;34m)\u001b[0m\u001b[0;34m\u001b[0m\u001b[0m\n",
      "\u001b[0;31mNameError\u001b[0m: name 'List' is not defined"
     ]
    }
   ],
   "source": [
    "def allPathsSourceTarget(self, graph: List[List[int]]) -> List[List[int]]:\n",
    "        dic = {}\n",
    "        for i, node in enumerate(graph):\n",
    "            dic[i] = node\n",
    "        print(dic)\n",
    "        out = []\n",
    "        edges = []\n",
    "        for i, node in dic.items():\n",
    "            for j in node:\n",
    "                edges.append((i,j))\n",
    "        print(edges)\n",
    "        \n",
    "        \n",
    "        initial = dic[0]\n",
    "        print('start', initial)\n",
    "        \n",
    "        res = []\n",
    "        for i in dic[0]:\n",
    "            temp = [0]\n",
    "            if i in dic:\n",
    "                temp.append([i,dic[i]])\n",
    "                res.append(temp)\n",
    "        print(res)\n",
    "        \n",
    "        for path in res:\n",
    "            temp = []\n",
    "            \n",
    "        \n",
    "#         for i in range(len(edges)):\n",
    "#             temp = []\n",
    "#             a, b = edges[i]\n",
    "#             temp.append(edges[i])\n",
    "#             for j in range(len(edges)):\n",
    "#                 c, d = edges[j]\n",
    "#                 if temp[-1] == c:\n",
    "#                     temp.appenn(edges[j])\n",
    "#             out.append(temp)\n",
    "#         res = []\n",
    "#         print(out)\n",
    "#         for path in out:\n",
    "#             if path[0] == 0 and path[-1] == len(graph)-1:\n",
    "#                 res.append(list(set(path)))\n",
    "#         return res"
   ]
  },
  {
   "cell_type": "code",
   "execution_count": null,
   "metadata": {},
   "outputs": [],
   "source": []
  },
  {
   "cell_type": "code",
   "execution_count": 54,
   "metadata": {},
   "outputs": [
    {
     "name": "stdout",
     "output_type": "stream",
     "text": [
      "[[0, 3], [0, 1]]\n",
      "[[0, 4]]\n",
      "[[0, 3], [0, 1, 3], [0, 1, 2]]\n",
      "[[0, 3], [0, 1, 3], [0, 1, 2, 3]]\n",
      "[[0, 3], [0, 1, 3]]\n",
      "[[0, 3]]\n",
      "[]\n",
      "[]\n",
      "[[0, 4], [0, 1, 4], [0, 1, 2, 3, 4], [0, 1, 3, 4], [0, 3, 4]]\n"
     ]
    }
   ],
   "source": [
    "def allPathsSourceTarget(graph):\n",
    "    target = len(graph)-1\n",
    "    output = []\n",
    "    paths = []\n",
    "    \n",
    "    for node in graph[0]:\n",
    "        if node != target:\n",
    "            paths.append([0, node])\n",
    "        else:\n",
    "            output.append([0, node])\n",
    "    print(paths)\n",
    "    print(output)\n",
    "    i = 0\n",
    "    while paths:\n",
    "        path = paths.pop()\n",
    "        next_nodes = graph[path[-1]]\n",
    "        \n",
    "        if not next_nodes:\n",
    "            continue\n",
    "            \n",
    "        for node in next_nodes:\n",
    "            new_path = path+[node]\n",
    "            if node != target:\n",
    "                paths.append(new_path)\n",
    "            else:\n",
    "                output.append(new_path)\n",
    "        print(paths)\n",
    "    \n",
    "    print(paths)\n",
    "    print(output)     \n",
    "    \n",
    "graph = [[4,3,1],[3,2,4],[3],[4],[]]\n",
    "allPathsSourceTarget(graph)"
   ]
  },
  {
   "cell_type": "code",
   "execution_count": 69,
   "metadata": {},
   "outputs": [
    {
     "name": "stdout",
     "output_type": "stream",
     "text": [
      "[0, 0, 0, 0, 0, 0]\n",
      "[0, 0, 0, 0, 0, 0]\n",
      "[0, 0, 0, 0, 0, 0]\n",
      "[0, 0, 0, 0, 0, 0]\n",
      "[0, 0, 0, 0, 0, 0]\n",
      "[0, 0, 0, 0, 0, 0]\n",
      "\n",
      "[0, 0, 1, 0, 0, 0]\n",
      "[0, 0, 0, 1, 0, 0]\n",
      "[0, 0, 0, 1, 1, 0]\n",
      "[0, 0, 0, 0, 0, 1]\n",
      "[0, 0, 0, 0, 0, 1]\n",
      "[0, 0, 0, 0, 0, 0]\n",
      "{0: [2], 1: [3], 2: [3, 4], 3: [5], 4: [5]}\n",
      "[[2], [3], [3, 4], [5], [5]]\n"
     ]
    }
   ],
   "source": [
    "def printMatrix(matrix):\n",
    "    for row in matrix:\n",
    "        print(row)\n",
    "def adjList(edges):\n",
    "    dic = {}\n",
    "    for edge in edges:\n",
    "        if edge[0] not in dic:\n",
    "            dic[edge[0]] = [edge[1]]\n",
    "        else:\n",
    "            dic[edge[0]] += [edge[1]]\n",
    "    print(dic)\n",
    "    \n",
    "    return dic.values()\n",
    "        \n",
    "\n",
    "def adjMatrix(edges):\n",
    "    \n",
    "    graph = [[0 for i in range(len(edges))] for j in range(len(edges))]\n",
    "    \n",
    "    printMatrix(graph)\n",
    "    for edge in edges:\n",
    "        i, j = edge\n",
    "        graph[i][j] = 1\n",
    "        \n",
    "    print()\n",
    "    printMatrix(graph)\n",
    "    \n",
    "\n",
    "edgeList = [[0, 2], [1, 3], [2, 3], [2, 4], [3, 5], [4, 5]]\n",
    "adj_matrix = adjMatrix(edgeList)\n",
    "adj_list = adjList(edgeList)\n",
    "print(list(adj_list))"
   ]
  },
  {
   "cell_type": "code",
   "execution_count": null,
   "metadata": {},
   "outputs": [],
   "source": []
  },
  {
   "cell_type": "code",
   "execution_count": null,
   "metadata": {},
   "outputs": [],
   "source": [
    "def canFinish(numCourses: int, prerequisites: List[List[int]]) -> bool:\n",
    "    inDegrees = dict()\n",
    "    stack = []\n",
    "    count = 0\n",
    "\n",
    "    for i in range(numCourses):\n",
    "        inDegrees[i] = 0\n",
    "\n",
    "    for i in range(len(prerequisites)):\n",
    "        inDegrees[prerequisites[i][0]] += 1\n",
    "\n",
    "    for key, val in inDegrees.items():\n",
    "        if val == 0:\n",
    "            stack.append(key)\n",
    "\n",
    "    while len(stack) > 0:\n",
    "        curr = stack.pop()\n",
    "        count += 1\n",
    "\n",
    "        for i in range(len(prerequisites)):\n",
    "            if prerequisites[i][1] == curr:\n",
    "                inDegrees[prerequisites[i][0]] -= 1\n",
    "                if inDegrees[prerequisites[i][0]] == 0:\n",
    "                    stack.append(prerequisites[i][0])\n",
    "\n",
    "    return count == numCourses\n"
   ]
  },
  {
   "cell_type": "code",
   "execution_count": null,
   "metadata": {},
   "outputs": [],
   "source": []
  },
  {
   "cell_type": "code",
   "execution_count": 4,
   "metadata": {},
   "outputs": [
    {
     "name": "stdout",
     "output_type": "stream",
     "text": [
      "hell world\n",
      "[0, 0, 0, 0, 1, 0, 0, 1, 0, 0, 0, 2, 0, 0, 0, 0, 0, 0, 0, 0, 0, 0, 0, 0, 0, 0]\n",
      "[0, 0, 0, 1, 0, 0, 0, 0, 0, 0, 0, 1, 0, 0, 1, 0, 0, 1, 0, 0, 0, 0, 1, 0, 0, 0]\n",
      "hi bye\n",
      "[0, 0, 0, 0, 0, 0, 0, 1, 1, 0, 0, 0, 0, 0, 0, 0, 0, 0, 0, 0, 0, 0, 0, 0, 0, 0]\n",
      "[0, 1, 0, 0, 1, 0, 0, 0, 0, 0, 0, 0, 0, 0, 0, 0, 0, 0, 0, 0, 0, 0, 0, 0, 1, 0]\n",
      "asd fgh\n",
      "[1, 0, 0, 1, 0, 0, 0, 0, 0, 0, 0, 0, 0, 0, 0, 0, 0, 0, 1, 0, 0, 0, 0, 0, 0, 0]\n",
      "[0, 0, 0, 0, 0, 1, 1, 1, 0, 0, 0, 0, 0, 0, 0, 0, 0, 0, 0, 0, 0, 0, 0, 0, 0, 0]\n",
      "sqw qwe\n",
      "[0, 0, 0, 0, 0, 0, 0, 0, 0, 0, 0, 0, 0, 0, 0, 0, 1, 0, 1, 0, 0, 0, 1, 0, 0, 0]\n",
      "[0, 0, 0, 0, 1, 0, 0, 0, 0, 0, 0, 0, 0, 0, 0, 0, 1, 0, 0, 0, 0, 0, 1, 0, 0, 0]\n"
     ]
    },
    {
     "data": {
      "text/plain": [
       "['YES', 'NO', 'NO', 'YES']"
      ]
     },
     "execution_count": 4,
     "metadata": {},
     "output_type": "execute_result"
    }
   ],
   "source": [
    "def commonSubstring(A, B):\n",
    "    output = []\n",
    "    for a, b in zip(A, B):\n",
    "        counterA = [0]*26\n",
    "        counterB = [0]*26\n",
    "        isCommon = False\n",
    "        \n",
    "        for l in a:\n",
    "            counterA[ord(l)-ord('a')] += 1\n",
    "        for l in b:\n",
    "            counterB[ord(l)-ord('a')] += 1\n",
    "\n",
    "        for l1, l2 in zip(counterA, counterB):\n",
    "            if l1 >=1 and l2 >= 1:\n",
    "                isCommon = True\n",
    "                break\n",
    "        if isCommon:\n",
    "            output.append('YES')\n",
    "        else:\n",
    "            output.append('NO')\n",
    "    return output\n",
    "\n",
    "A = ['hell', 'hi', 'asd', 'sqw']\n",
    "B = ['world', 'bye', 'fgh', 'qwe']\n",
    "commonSubstring(A, B)"
   ]
  },
  {
   "cell_type": "code",
   "execution_count": 21,
   "metadata": {},
   "outputs": [
    {
     "data": {
      "text/plain": [
       "1"
      ]
     },
     "execution_count": 21,
     "metadata": {},
     "output_type": "execute_result"
    }
   ],
   "source": [
    "def optimalPoint(magic, distance):\n",
    "    optimal_point, current_point = 0, 0\n",
    "    index = 0\n",
    "    for i in range(len(magic)):\n",
    "        current_point += magic[i] - distance[i]\n",
    "        optimal_point += magic[i] - distance[i]\n",
    "        \n",
    "        if current_point < 0:\n",
    "            index = i+1\n",
    "            current_point = 0\n",
    "    if optimal_point < 0:\n",
    "        return -1\n",
    "    else:\n",
    "        return index\n",
    "    \n",
    "magic = [2,4,5,2]\n",
    "distance = [4,3,1,3]\n",
    "optimalPoint(magic, distance)"
   ]
  },
  {
   "cell_type": "code",
   "execution_count": null,
   "metadata": {},
   "outputs": [],
   "source": []
  },
  {
   "cell_type": "code",
   "execution_count": null,
   "metadata": {},
   "outputs": [],
   "source": []
  },
  {
   "cell_type": "code",
   "execution_count": 23,
   "metadata": {},
   "outputs": [],
   "source": [
    "import pandas as pd"
   ]
  },
  {
   "cell_type": "code",
   "execution_count": 27,
   "metadata": {},
   "outputs": [
    {
     "data": {
      "text/html": [
       "<div>\n",
       "<style scoped>\n",
       "    .dataframe tbody tr th:only-of-type {\n",
       "        vertical-align: middle;\n",
       "    }\n",
       "\n",
       "    .dataframe tbody tr th {\n",
       "        vertical-align: top;\n",
       "    }\n",
       "\n",
       "    .dataframe thead th {\n",
       "        text-align: right;\n",
       "    }\n",
       "</style>\n",
       "<table border=\"1\" class=\"dataframe\">\n",
       "  <thead>\n",
       "    <tr style=\"text-align: right;\">\n",
       "      <th></th>\n",
       "      <th>LeadCreated</th>\n",
       "      <th>FirstName</th>\n",
       "      <th>Email</th>\n",
       "      <th>VendorLeadID</th>\n",
       "      <th>CallStatus</th>\n",
       "      <th>WidgetName</th>\n",
       "      <th>PublisherZoneName</th>\n",
       "      <th>PublisherCampaignName</th>\n",
       "      <th>AddressScore</th>\n",
       "      <th>PhoneScore</th>\n",
       "      <th>...</th>\n",
       "      <th>Partner</th>\n",
       "      <th>ReferralDomain</th>\n",
       "      <th>MarketingCampaign</th>\n",
       "      <th>AdGroup</th>\n",
       "      <th>Keyword</th>\n",
       "      <th>SearchQuery</th>\n",
       "      <th>ReferralURL</th>\n",
       "      <th>ReferralURL Parameters</th>\n",
       "      <th>LandingPageURL</th>\n",
       "      <th>Landing Page URL Parameters</th>\n",
       "    </tr>\n",
       "  </thead>\n",
       "  <tbody>\n",
       "    <tr>\n",
       "      <td>0</td>\n",
       "      <td>2009-07-01 01:24:29.563</td>\n",
       "      <td>Dorinda</td>\n",
       "      <td>kanani@sandwichisles.net</td>\n",
       "      <td>FDF81FDA-A649-437B-B99C-FDDE74F7971B</td>\n",
       "      <td>NaN</td>\n",
       "      <td>w-302252-DebtReduction1-1DC-CreditSolutions</td>\n",
       "      <td>TopLeft-302252</td>\n",
       "      <td>DebtReductionInc</td>\n",
       "      <td>NaN</td>\n",
       "      <td>5.0</td>\n",
       "      <td>...</td>\n",
       "      <td>google</td>\n",
       "      <td>www.google.com</td>\n",
       "      <td>Debt Holding Tank</td>\n",
       "      <td>Holding Tank - Debt</td>\n",
       "      <td>Debt specialists</td>\n",
       "      <td>debt specialists</td>\n",
       "      <td>http://www.google.com/search</td>\n",
       "      <td>sourceid=navclient&amp;aq=1&amp;oq=debt sp&amp;ie=UTF-8&amp;rl...</td>\n",
       "      <td>http://www.debtreductioninc.com/index8.html</td>\n",
       "      <td>utm_source=google&amp;utm_medium=CPC&amp;utm_content=H...</td>\n",
       "    </tr>\n",
       "    <tr>\n",
       "      <td>1</td>\n",
       "      <td>2009-04-13 15:27:35.990</td>\n",
       "      <td>Presetta</td>\n",
       "      <td>clerk2@ustconline.net</td>\n",
       "      <td>4190ACB7-5026-416C-B987-ED8AD427D5E6</td>\n",
       "      <td>NaN</td>\n",
       "      <td>w-300250-DebtReduction1-1DC-Head2</td>\n",
       "      <td>TopLeft-302252</td>\n",
       "      <td>DebtReductionInc</td>\n",
       "      <td>NaN</td>\n",
       "      <td>NaN</td>\n",
       "      <td>...</td>\n",
       "      <td>AdKnowledge</td>\n",
       "      <td>NaN</td>\n",
       "      <td>Financial Services</td>\n",
       "      <td>Consolidate</td>\n",
       "      <td>NaN</td>\n",
       "      <td>NaN</td>\n",
       "      <td>NaN</td>\n",
       "      <td>NaN</td>\n",
       "      <td>http://www.debtreductioninc.com/index8.html</td>\n",
       "      <td>utm_source=AdKnowledge&amp;utm_medium=CPC&amp;utm_cont...</td>\n",
       "    </tr>\n",
       "    <tr>\n",
       "      <td>2</td>\n",
       "      <td>2009-04-21 07:22:59.000</td>\n",
       "      <td>Gina</td>\n",
       "      <td>wagoner_gina@yahoo.com</td>\n",
       "      <td>hFg80jf_R0CRN55hdhWILw</td>\n",
       "      <td>Unable to contact - Bad Contact Information</td>\n",
       "      <td>w-300250-DebtReduction1-1DC-Head2</td>\n",
       "      <td>TopLeft-302252</td>\n",
       "      <td>DebtReductionInc</td>\n",
       "      <td>NaN</td>\n",
       "      <td>NaN</td>\n",
       "      <td>...</td>\n",
       "      <td>AdKnowledge</td>\n",
       "      <td>us.mc582.mail.yahoo.com</td>\n",
       "      <td>Financial Services</td>\n",
       "      <td>Consolidate</td>\n",
       "      <td>NaN</td>\n",
       "      <td>NaN</td>\n",
       "      <td>http://us.mc582.mail.yahoo.com/mc/showMessage</td>\n",
       "      <td>&amp;fid=Inbox&amp;sort=date&amp;order=down&amp;startMid=0&amp;.ra...</td>\n",
       "      <td>http://www.debtreductioninc.com/index8.html</td>\n",
       "      <td>utm_source=AdKnowledge&amp;utm_medium=CPC&amp;utm_cont...</td>\n",
       "    </tr>\n",
       "    <tr>\n",
       "      <td>3</td>\n",
       "      <td>2009-08-03 19:39:02.000</td>\n",
       "      <td>Kari</td>\n",
       "      <td>usa4ley@yahoo.com</td>\n",
       "      <td>jB01QgYZxkWArI9jWxuufw</td>\n",
       "      <td>Contacted - Doesn't Qualify</td>\n",
       "      <td>w-302252-DebtReduction1-1DC-white</td>\n",
       "      <td>TopLeft-302252</td>\n",
       "      <td>DebtReductionInc</td>\n",
       "      <td>5.0</td>\n",
       "      <td>3.0</td>\n",
       "      <td>...</td>\n",
       "      <td>Google</td>\n",
       "      <td>norwich.kijiji.com</td>\n",
       "      <td>DebtReductionInc</td>\n",
       "      <td>Lower Payments</td>\n",
       "      <td>NaN</td>\n",
       "      <td>NaN</td>\n",
       "      <td>http://norwich.kijiji.com/c-Cars-vehicles-Cars...</td>\n",
       "      <td>NaN</td>\n",
       "      <td>http://www.debtreductioninc.com/index12.html</td>\n",
       "      <td>utm_source=Google&amp;utm_medium=cpc&amp;utm_campaign=...</td>\n",
       "    </tr>\n",
       "    <tr>\n",
       "      <td>4</td>\n",
       "      <td>2009-04-13 10:18:37.490</td>\n",
       "      <td>Stephanie</td>\n",
       "      <td>sr1lambert@embarqmail.com</td>\n",
       "      <td>D5B32074-458E-40EC-B185-1FEF20AC626D</td>\n",
       "      <td>NaN</td>\n",
       "      <td>w-300250-DebtReduction1-1DC-BlueMeter</td>\n",
       "      <td>TopLeft-302252</td>\n",
       "      <td>DebtReductionInc</td>\n",
       "      <td>NaN</td>\n",
       "      <td>NaN</td>\n",
       "      <td>...</td>\n",
       "      <td>Google</td>\n",
       "      <td>NaN</td>\n",
       "      <td>DebtReductionInc</td>\n",
       "      <td>Debt Reduction</td>\n",
       "      <td>NaN</td>\n",
       "      <td>NaN</td>\n",
       "      <td>NaN</td>\n",
       "      <td>NaN</td>\n",
       "      <td>http://www.debtreductioninc.com/index8.html</td>\n",
       "      <td>utm_source=Google&amp;utm_medium=cpc&amp;utm_campaign=...</td>\n",
       "    </tr>\n",
       "    <tr>\n",
       "      <td>...</td>\n",
       "      <td>...</td>\n",
       "      <td>...</td>\n",
       "      <td>...</td>\n",
       "      <td>...</td>\n",
       "      <td>...</td>\n",
       "      <td>...</td>\n",
       "      <td>...</td>\n",
       "      <td>...</td>\n",
       "      <td>...</td>\n",
       "      <td>...</td>\n",
       "      <td>...</td>\n",
       "      <td>...</td>\n",
       "      <td>...</td>\n",
       "      <td>...</td>\n",
       "      <td>...</td>\n",
       "      <td>...</td>\n",
       "      <td>...</td>\n",
       "      <td>...</td>\n",
       "      <td>...</td>\n",
       "      <td>...</td>\n",
       "      <td>...</td>\n",
       "    </tr>\n",
       "    <tr>\n",
       "      <td>3016</td>\n",
       "      <td>2009-06-30 18:14:33.043</td>\n",
       "      <td>amy</td>\n",
       "      <td>ahokett@sjc.edu</td>\n",
       "      <td>F42BBDFB-D44B-4890-A1B6-D1F0A3838214</td>\n",
       "      <td>NaN</td>\n",
       "      <td>w-302252-DebtReduction1-1DC-white</td>\n",
       "      <td>TopLeft-302252</td>\n",
       "      <td>DebtReductionInc</td>\n",
       "      <td>NaN</td>\n",
       "      <td>NaN</td>\n",
       "      <td>...</td>\n",
       "      <td>yahoo</td>\n",
       "      <td>www.att.net</td>\n",
       "      <td>DebtReductionInc</td>\n",
       "      <td>Debt Consolidation</td>\n",
       "      <td>NaN</td>\n",
       "      <td>NaN</td>\n",
       "      <td>http://www.att.net/s/s.dll</td>\n",
       "      <td>spage=search/error.htm&amp;searchtype=epa&amp;source=a...</td>\n",
       "      <td>http://www.debtreductioninc.com/index8.html</td>\n",
       "      <td>utm_source=yahoo&amp;utm_medium=cpc&amp;utm_campaign=D...</td>\n",
       "    </tr>\n",
       "    <tr>\n",
       "      <td>3017</td>\n",
       "      <td>2009-04-25 16:56:53.670</td>\n",
       "      <td>brandy</td>\n",
       "      <td>brandy75137@yahoo.com</td>\n",
       "      <td>EA3703A3-61C9-40CE-92F7-61F0E02B1365</td>\n",
       "      <td>NaN</td>\n",
       "      <td>w-300250-DebtReduction1-1DC-Head2</td>\n",
       "      <td>TopLeft-302252</td>\n",
       "      <td>DebtReductionInc</td>\n",
       "      <td>NaN</td>\n",
       "      <td>NaN</td>\n",
       "      <td>...</td>\n",
       "      <td>Google</td>\n",
       "      <td>googleads.g.doubleclick.net</td>\n",
       "      <td>DebtReductionInc</td>\n",
       "      <td>Student Debt</td>\n",
       "      <td>NaN</td>\n",
       "      <td>NaN</td>\n",
       "      <td>http://googleads.g.doubleclick.net/pagead/ads</td>\n",
       "      <td>client=ca-pub-7025449865608971&amp;dt=124069479896...</td>\n",
       "      <td>http://www.debtreductioninc.com/index8.html</td>\n",
       "      <td>utm_source=Google&amp;utm_medium=cpc&amp;utm_campaign=...</td>\n",
       "    </tr>\n",
       "    <tr>\n",
       "      <td>3018</td>\n",
       "      <td>2009-04-12 18:38:43.067</td>\n",
       "      <td>jennifer</td>\n",
       "      <td>jennifer_woods48375@yahoo.com</td>\n",
       "      <td>64EB2632-E29E-4EB4-B361-45F1F0C735B5</td>\n",
       "      <td>NaN</td>\n",
       "      <td>w-300250-DebtReduction1-1DC-CreditSolutions</td>\n",
       "      <td>TopLeft-302252</td>\n",
       "      <td>DebtReductionInc</td>\n",
       "      <td>NaN</td>\n",
       "      <td>NaN</td>\n",
       "      <td>...</td>\n",
       "      <td>yahoo</td>\n",
       "      <td>search.yahoo.com</td>\n",
       "      <td>DebtReductionInc</td>\n",
       "      <td>Debt Consolidation</td>\n",
       "      <td>NaN</td>\n",
       "      <td>debt consolidation or settlement which is better</td>\n",
       "      <td>http://search.yahoo.com/search</td>\n",
       "      <td>ei=UTF-8&amp;fr=yfp-t-501&amp;SpellState=n-1665662351_...</td>\n",
       "      <td>http://www.debtreductioninc.com/index8.html</td>\n",
       "      <td>utm_source=yahoo&amp;utm_medium=cpc&amp;utm_campaign=D...</td>\n",
       "    </tr>\n",
       "    <tr>\n",
       "      <td>3019</td>\n",
       "      <td>2009-09-23 21:41:08.193</td>\n",
       "      <td>debra</td>\n",
       "      <td>debraroque@att.net</td>\n",
       "      <td>9126C7DB-F5BB-4CE1-BDCF-5E6F1841ADAD</td>\n",
       "      <td>NaN</td>\n",
       "      <td>w-302252-DebtReduction1-1DC-yellowarrow-dark</td>\n",
       "      <td>TopLeft-302252</td>\n",
       "      <td>DebtReductionInc</td>\n",
       "      <td>5.0</td>\n",
       "      <td>5.0</td>\n",
       "      <td>...</td>\n",
       "      <td>Google</td>\n",
       "      <td>NaN</td>\n",
       "      <td>state</td>\n",
       "      <td>Debt Negotiation</td>\n",
       "      <td>NaN</td>\n",
       "      <td>NaN</td>\n",
       "      <td>NaN</td>\n",
       "      <td>NaN</td>\n",
       "      <td>http://www.debtreductioninc.com/index8.html</td>\n",
       "      <td>utm_source=Google&amp;utm_medium=cpc&amp;utm_campaign=...</td>\n",
       "    </tr>\n",
       "    <tr>\n",
       "      <td>3020</td>\n",
       "      <td>2009-04-27 10:31:42.573</td>\n",
       "      <td>Ricard</td>\n",
       "      <td>silva3131@sbcglobal.net</td>\n",
       "      <td>AF369BF3-15C7-4B47-8E2D-FE218A5DBCC3</td>\n",
       "      <td>NaN</td>\n",
       "      <td>w-300250-DebtReduction1-1DC-Head2</td>\n",
       "      <td>TopLeft-302252</td>\n",
       "      <td>DebtReductionInc</td>\n",
       "      <td>NaN</td>\n",
       "      <td>NaN</td>\n",
       "      <td>...</td>\n",
       "      <td>Google</td>\n",
       "      <td>www.ehow.com</td>\n",
       "      <td>DebtReductionInc</td>\n",
       "      <td>Lower Payments</td>\n",
       "      <td>NaN</td>\n",
       "      <td>NaN</td>\n",
       "      <td>http://www.ehow.com/ehow_radlinks_ads.html</td>\n",
       "      <td>term=Lower Monthly Car Payments&amp;channel=fin_mo...</td>\n",
       "      <td>http://www.debtreductioninc.com/index8.html</td>\n",
       "      <td>utm_source=Google&amp;utm_medium=cpc&amp;utm_campaign=...</td>\n",
       "    </tr>\n",
       "  </tbody>\n",
       "</table>\n",
       "<p>3021 rows × 24 columns</p>\n",
       "</div>"
      ],
      "text/plain": [
       "                 LeadCreated  FirstName                          Email  \\\n",
       "0    2009-07-01 01:24:29.563    Dorinda       kanani@sandwichisles.net   \n",
       "1    2009-04-13 15:27:35.990   Presetta          clerk2@ustconline.net   \n",
       "2    2009-04-21 07:22:59.000       Gina         wagoner_gina@yahoo.com   \n",
       "3    2009-08-03 19:39:02.000       Kari              usa4ley@yahoo.com   \n",
       "4    2009-04-13 10:18:37.490  Stephanie      sr1lambert@embarqmail.com   \n",
       "...                      ...        ...                            ...   \n",
       "3016 2009-06-30 18:14:33.043        amy                ahokett@sjc.edu   \n",
       "3017 2009-04-25 16:56:53.670     brandy          brandy75137@yahoo.com   \n",
       "3018 2009-04-12 18:38:43.067   jennifer  jennifer_woods48375@yahoo.com   \n",
       "3019 2009-09-23 21:41:08.193      debra             debraroque@att.net   \n",
       "3020 2009-04-27 10:31:42.573     Ricard        silva3131@sbcglobal.net   \n",
       "\n",
       "                              VendorLeadID  \\\n",
       "0     FDF81FDA-A649-437B-B99C-FDDE74F7971B   \n",
       "1     4190ACB7-5026-416C-B987-ED8AD427D5E6   \n",
       "2                   hFg80jf_R0CRN55hdhWILw   \n",
       "3                   jB01QgYZxkWArI9jWxuufw   \n",
       "4     D5B32074-458E-40EC-B185-1FEF20AC626D   \n",
       "...                                    ...   \n",
       "3016  F42BBDFB-D44B-4890-A1B6-D1F0A3838214   \n",
       "3017  EA3703A3-61C9-40CE-92F7-61F0E02B1365   \n",
       "3018  64EB2632-E29E-4EB4-B361-45F1F0C735B5   \n",
       "3019  9126C7DB-F5BB-4CE1-BDCF-5E6F1841ADAD   \n",
       "3020  AF369BF3-15C7-4B47-8E2D-FE218A5DBCC3   \n",
       "\n",
       "                                       CallStatus  \\\n",
       "0                                             NaN   \n",
       "1                                             NaN   \n",
       "2     Unable to contact - Bad Contact Information   \n",
       "3                     Contacted - Doesn't Qualify   \n",
       "4                                             NaN   \n",
       "...                                           ...   \n",
       "3016                                          NaN   \n",
       "3017                                          NaN   \n",
       "3018                                          NaN   \n",
       "3019                                          NaN   \n",
       "3020                                          NaN   \n",
       "\n",
       "                                        WidgetName PublisherZoneName  \\\n",
       "0      w-302252-DebtReduction1-1DC-CreditSolutions    TopLeft-302252   \n",
       "1                w-300250-DebtReduction1-1DC-Head2    TopLeft-302252   \n",
       "2                w-300250-DebtReduction1-1DC-Head2    TopLeft-302252   \n",
       "3                w-302252-DebtReduction1-1DC-white    TopLeft-302252   \n",
       "4            w-300250-DebtReduction1-1DC-BlueMeter    TopLeft-302252   \n",
       "...                                            ...               ...   \n",
       "3016             w-302252-DebtReduction1-1DC-white    TopLeft-302252   \n",
       "3017             w-300250-DebtReduction1-1DC-Head2    TopLeft-302252   \n",
       "3018   w-300250-DebtReduction1-1DC-CreditSolutions    TopLeft-302252   \n",
       "3019  w-302252-DebtReduction1-1DC-yellowarrow-dark    TopLeft-302252   \n",
       "3020             w-300250-DebtReduction1-1DC-Head2    TopLeft-302252   \n",
       "\n",
       "     PublisherCampaignName  AddressScore  PhoneScore  ...      Partner  \\\n",
       "0         DebtReductionInc           NaN         5.0  ...       google   \n",
       "1         DebtReductionInc           NaN         NaN  ...  AdKnowledge   \n",
       "2         DebtReductionInc           NaN         NaN  ...  AdKnowledge   \n",
       "3         DebtReductionInc           5.0         3.0  ...       Google   \n",
       "4         DebtReductionInc           NaN         NaN  ...       Google   \n",
       "...                    ...           ...         ...  ...          ...   \n",
       "3016      DebtReductionInc           NaN         NaN  ...        yahoo   \n",
       "3017      DebtReductionInc           NaN         NaN  ...       Google   \n",
       "3018      DebtReductionInc           NaN         NaN  ...        yahoo   \n",
       "3019      DebtReductionInc           5.0         5.0  ...       Google   \n",
       "3020      DebtReductionInc           NaN         NaN  ...       Google   \n",
       "\n",
       "                   ReferralDomain   MarketingCampaign              AdGroup  \\\n",
       "0                  www.google.com   Debt Holding Tank  Holding Tank - Debt   \n",
       "1                             NaN  Financial Services          Consolidate   \n",
       "2         us.mc582.mail.yahoo.com  Financial Services          Consolidate   \n",
       "3              norwich.kijiji.com    DebtReductionInc       Lower Payments   \n",
       "4                             NaN    DebtReductionInc       Debt Reduction   \n",
       "...                           ...                 ...                  ...   \n",
       "3016                  www.att.net    DebtReductionInc   Debt Consolidation   \n",
       "3017  googleads.g.doubleclick.net    DebtReductionInc         Student Debt   \n",
       "3018             search.yahoo.com    DebtReductionInc   Debt Consolidation   \n",
       "3019                          NaN               state     Debt Negotiation   \n",
       "3020                 www.ehow.com    DebtReductionInc       Lower Payments   \n",
       "\n",
       "               Keyword                                       SearchQuery  \\\n",
       "0     Debt specialists                                  debt specialists   \n",
       "1                  NaN                                               NaN   \n",
       "2                  NaN                                               NaN   \n",
       "3                  NaN                                               NaN   \n",
       "4                  NaN                                               NaN   \n",
       "...                ...                                               ...   \n",
       "3016               NaN                                               NaN   \n",
       "3017               NaN                                               NaN   \n",
       "3018               NaN  debt consolidation or settlement which is better   \n",
       "3019               NaN                                               NaN   \n",
       "3020               NaN                                               NaN   \n",
       "\n",
       "                                            ReferralURL  \\\n",
       "0                          http://www.google.com/search   \n",
       "1                                                   NaN   \n",
       "2         http://us.mc582.mail.yahoo.com/mc/showMessage   \n",
       "3     http://norwich.kijiji.com/c-Cars-vehicles-Cars...   \n",
       "4                                                   NaN   \n",
       "...                                                 ...   \n",
       "3016                         http://www.att.net/s/s.dll   \n",
       "3017      http://googleads.g.doubleclick.net/pagead/ads   \n",
       "3018                     http://search.yahoo.com/search   \n",
       "3019                                                NaN   \n",
       "3020         http://www.ehow.com/ehow_radlinks_ads.html   \n",
       "\n",
       "                                 ReferralURL Parameters  \\\n",
       "0     sourceid=navclient&aq=1&oq=debt sp&ie=UTF-8&rl...   \n",
       "1                                                   NaN   \n",
       "2     &fid=Inbox&sort=date&order=down&startMid=0&.ra...   \n",
       "3                                                   NaN   \n",
       "4                                                   NaN   \n",
       "...                                                 ...   \n",
       "3016  spage=search/error.htm&searchtype=epa&source=a...   \n",
       "3017  client=ca-pub-7025449865608971&dt=124069479896...   \n",
       "3018  ei=UTF-8&fr=yfp-t-501&SpellState=n-1665662351_...   \n",
       "3019                                                NaN   \n",
       "3020  term=Lower Monthly Car Payments&channel=fin_mo...   \n",
       "\n",
       "                                    LandingPageURL  \\\n",
       "0      http://www.debtreductioninc.com/index8.html   \n",
       "1      http://www.debtreductioninc.com/index8.html   \n",
       "2      http://www.debtreductioninc.com/index8.html   \n",
       "3     http://www.debtreductioninc.com/index12.html   \n",
       "4      http://www.debtreductioninc.com/index8.html   \n",
       "...                                            ...   \n",
       "3016   http://www.debtreductioninc.com/index8.html   \n",
       "3017   http://www.debtreductioninc.com/index8.html   \n",
       "3018   http://www.debtreductioninc.com/index8.html   \n",
       "3019   http://www.debtreductioninc.com/index8.html   \n",
       "3020   http://www.debtreductioninc.com/index8.html   \n",
       "\n",
       "                            Landing Page URL Parameters  \n",
       "0     utm_source=google&utm_medium=CPC&utm_content=H...  \n",
       "1     utm_source=AdKnowledge&utm_medium=CPC&utm_cont...  \n",
       "2     utm_source=AdKnowledge&utm_medium=CPC&utm_cont...  \n",
       "3     utm_source=Google&utm_medium=cpc&utm_campaign=...  \n",
       "4     utm_source=Google&utm_medium=cpc&utm_campaign=...  \n",
       "...                                                 ...  \n",
       "3016  utm_source=yahoo&utm_medium=cpc&utm_campaign=D...  \n",
       "3017  utm_source=Google&utm_medium=cpc&utm_campaign=...  \n",
       "3018  utm_source=yahoo&utm_medium=cpc&utm_campaign=D...  \n",
       "3019  utm_source=Google&utm_medium=cpc&utm_campaign=...  \n",
       "3020  utm_source=Google&utm_medium=cpc&utm_campaign=...  \n",
       "\n",
       "[3021 rows x 24 columns]"
      ]
     },
     "execution_count": 27,
     "metadata": {},
     "output_type": "execute_result"
    }
   ],
   "source": [
    "df = pd.read_excel('/Users/lomesh/Downloads/dataset_for_CaseStudy.xls')\n",
    "df"
   ]
  },
  {
   "cell_type": "code",
   "execution_count": 28,
   "metadata": {},
   "outputs": [
    {
     "name": "stdout",
     "output_type": "stream",
     "text": [
      "Requirement already satisfied: xlrd in /Library/Frameworks/Python.framework/Versions/3.7/lib/python3.7/site-packages\n",
      "\u001b[33mYou are using pip version 9.0.1, however version 20.0.1 is available.\n",
      "You should consider upgrading via the 'pip install --upgrade pip' command.\u001b[0m\n"
     ]
    }
   ],
   "source": [
    "!pip3 install xlrd"
   ]
  },
  {
   "cell_type": "code",
   "execution_count": 29,
   "metadata": {},
   "outputs": [],
   "source": [
    "import numpy as np"
   ]
  },
  {
   "cell_type": "code",
   "execution_count": 30,
   "metadata": {},
   "outputs": [],
   "source": [
    "a = np.array([[1,2,3,4], [5,6,7,8], [9,10,11,12]])"
   ]
  },
  {
   "cell_type": "code",
   "execution_count": 33,
   "metadata": {},
   "outputs": [
    {
     "data": {
      "text/plain": [
       "array([ 1,  2,  3,  4,  5,  6,  7,  8,  9, 10, 11, 12])"
      ]
     },
     "execution_count": 33,
     "metadata": {},
     "output_type": "execute_result"
    }
   ],
   "source": [
    "a.ravel()"
   ]
  },
  {
   "cell_type": "code",
   "execution_count": 62,
   "metadata": {},
   "outputs": [],
   "source": [
    "x = np.random.random(size=(3,5))\n",
    "y = np.random.randint(10, size=8)"
   ]
  },
  {
   "cell_type": "code",
   "execution_count": 63,
   "metadata": {},
   "outputs": [
    {
     "name": "stdout",
     "output_type": "stream",
     "text": [
      "(3, 5)\n",
      "(8,)\n"
     ]
    }
   ],
   "source": [
    "print(x.shape)\n",
    "print(y.shape)"
   ]
  },
  {
   "cell_type": "code",
   "execution_count": 69,
   "metadata": {},
   "outputs": [
    {
     "data": {
      "text/plain": [
       "(8, 1)"
      ]
     },
     "execution_count": 69,
     "metadata": {},
     "output_type": "execute_result"
    }
   ],
   "source": [
    "y[:, np.newaxis].shape"
   ]
  },
  {
   "cell_type": "code",
   "execution_count": 73,
   "metadata": {},
   "outputs": [
    {
     "data": {
      "text/plain": [
       "array([1, 0, 0, 3, 2])"
      ]
     },
     "execution_count": 73,
     "metadata": {},
     "output_type": "execute_result"
    }
   ],
   "source": [
    "np.random.randint(5,size=5)"
   ]
  },
  {
   "cell_type": "code",
   "execution_count": 83,
   "metadata": {},
   "outputs": [
    {
     "name": "stdout",
     "output_type": "stream",
     "text": [
      "8\n",
      "[[0 1 2]\n",
      " [1 2 3]\n",
      " [2 3 4]\n",
      " [3 4 5]\n",
      " [4 5 6]\n",
      " [5 6 7]]\n"
     ]
    },
    {
     "data": {
      "text/plain": [
       "array([1., 2., 3., 4., 5., 6.])"
      ]
     },
     "execution_count": 83,
     "metadata": {},
     "output_type": "execute_result"
    }
   ],
   "source": [
    "def sliding_window(arr, n):\n",
    "    \n",
    "    rows = arr.size - n + 1\n",
    "    stride = arr.strides[0]\n",
    "    print(stride)\n",
    "    x = np.lib.stride_tricks.as_strided(arr,\n",
    "                                          shape=(rows, n),\n",
    "                                          strides = (stride, stride))  \n",
    "    print(x)\n",
    "    return np.mean(x, axis=1)\n",
    "\n",
    "arr = np.arange(8)\n",
    "\n",
    "sliding_window(arr, 3)"
   ]
  },
  {
   "cell_type": "code",
   "execution_count": null,
   "metadata": {},
   "outputs": [],
   "source": []
  },
  {
   "cell_type": "code",
   "execution_count": 8,
   "metadata": {},
   "outputs": [
    {
     "ename": "ValueError",
     "evalue": "too many values to unpack (expected 2)",
     "output_type": "error",
     "traceback": [
      "\u001b[0;31m---------------------------------------------------------------------------\u001b[0m",
      "\u001b[0;31mValueError\u001b[0m                                Traceback (most recent call last)",
      "\u001b[0;32m<ipython-input-8-0e5520644890>\u001b[0m in \u001b[0;36m<module>\u001b[0;34m\u001b[0m\n\u001b[1;32m      1\u001b[0m \u001b[0mnums\u001b[0m \u001b[0;34m=\u001b[0m \u001b[0;34m[\u001b[0m\u001b[0;36m34\u001b[0m\u001b[0;34m,\u001b[0m\u001b[0;36m45\u001b[0m\u001b[0;34m,\u001b[0m\u001b[0;36m32\u001b[0m\u001b[0;34m,\u001b[0m\u001b[0;36m44\u001b[0m\u001b[0;34m]\u001b[0m\u001b[0;34m\u001b[0m\u001b[0m\n\u001b[1;32m      2\u001b[0m \u001b[0mname\u001b[0m \u001b[0;34m=\u001b[0m \u001b[0;34m[\u001b[0m\u001b[0;34m'ds'\u001b[0m\u001b[0;34m,\u001b[0m \u001b[0;34m'dsd'\u001b[0m\u001b[0;34m,\u001b[0m \u001b[0;34m'dscs'\u001b[0m\u001b[0;34m,\u001b[0m \u001b[0;34m'fds'\u001b[0m\u001b[0;34m]\u001b[0m\u001b[0;34m\u001b[0m\u001b[0m\n\u001b[0;32m----> 3\u001b[0;31m \u001b[0;32mfor\u001b[0m \u001b[0mi\u001b[0m\u001b[0;34m,\u001b[0m \u001b[0mj\u001b[0m \u001b[0;32min\u001b[0m \u001b[0;34m(\u001b[0m\u001b[0mnums\u001b[0m\u001b[0;34m,\u001b[0m \u001b[0mname\u001b[0m\u001b[0;34m)\u001b[0m\u001b[0;34m:\u001b[0m\u001b[0;34m\u001b[0m\u001b[0m\n\u001b[0m\u001b[1;32m      4\u001b[0m     \u001b[0mprint\u001b[0m\u001b[0;34m(\u001b[0m\u001b[0mi\u001b[0m\u001b[0;34m,\u001b[0m \u001b[0mj\u001b[0m\u001b[0;34m)\u001b[0m\u001b[0;34m\u001b[0m\u001b[0m\n",
      "\u001b[0;31mValueError\u001b[0m: too many values to unpack (expected 2)"
     ]
    }
   ],
   "source": [
    "nums = [34,45,32,44]\n",
    "name = ['ds', 'dsd', 'dscs', 'fds']\n",
    "for i, j in (nums, name):\n",
    "    print(i, j)\n"
   ]
  },
  {
   "cell_type": "code",
   "execution_count": null,
   "metadata": {},
   "outputs": [],
   "source": []
  }
 ],
 "metadata": {
  "kernelspec": {
   "display_name": "Python 3",
   "language": "python",
   "name": "python3"
  },
  "language_info": {
   "codemirror_mode": {
    "name": "ipython",
    "version": 3
   },
   "file_extension": ".py",
   "mimetype": "text/x-python",
   "name": "python",
   "nbconvert_exporter": "python",
   "pygments_lexer": "ipython3",
   "version": "3.7.0b1"
  }
 },
 "nbformat": 4,
 "nbformat_minor": 2
}
