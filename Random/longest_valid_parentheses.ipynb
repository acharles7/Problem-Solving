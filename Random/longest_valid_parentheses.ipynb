{
 "cells": [
  {
   "cell_type": "code",
   "execution_count": 4,
   "metadata": {},
   "outputs": [],
   "source": [
    "def checkValid(string):\n",
    "    stack = []\n",
    "    for k in string:       \n",
    "        if k == '(':\n",
    "            stack.append(k)\n",
    "        else:\n",
    "            if stack:\n",
    "                stack.pop()\n",
    "            else:\n",
    "                return False\n",
    "    if stack:\n",
    "        return False\n",
    "    return True\n",
    "\n",
    "\n",
    "def longestValidParentheses(s: str) -> int:\n",
    "\n",
    "    stack = []\n",
    "    max_len = 0\n",
    "\n",
    "    for i in range(len(s)):\n",
    "        for j in range(i+1, len(s)+1):\n",
    "            substring = s[i:j]\n",
    "            if checkValid(substring) and len(substring) > max_len:\n",
    "                max_len = max(max_len, len(substring))\n",
    "    return max_len\n"
   ]
  },
  {
   "cell_type": "code",
   "execution_count": 41,
   "metadata": {},
   "outputs": [
    {
     "name": "stdout",
     "output_type": "stream",
     "text": [
      "['(', '(', ')', ')', ')', ')'] [0]\n",
      "['(', '(', ')', ')', ')', ')'] [0, 1]\n",
      "['(', '|', '|', ')', ')', ')'] [0]\n",
      "['|', '|', '|', '|', ')', ')'] []\n",
      "['|', '|', '|', '|', ')', ')'] []\n",
      "['|', '|', '|', '|', ')', ')'] []\n",
      "4\n"
     ]
    }
   ],
   "source": [
    "def longestValidParentheses2(string):\n",
    "    stack = []\n",
    "    string = list(string)\n",
    "    max_len = 0\n",
    "    for i, k in enumerate(string):  \n",
    "        if k == '(':\n",
    "            stack.append(i)\n",
    "        else:\n",
    "            if stack:\n",
    "                t = stack.pop()\n",
    "                string[i]  = '|'\n",
    "                string[t] = '|'\n",
    "        print(string, stack)\n",
    "    \n",
    "    max_len = 0\n",
    "    counter = 0\n",
    "    for i in range(len(string)):\n",
    "        if string[i] == '|':\n",
    "            counter += 1\n",
    "        else:\n",
    "            max_len = max(max_len, counter)\n",
    "            counter = 0\n",
    "    max_len = max(max_len, counter)\n",
    "    return max_len\n",
    "                \n",
    "        \n",
    "\n",
    "parentheses =\"(())))\"\n",
    "print(longestValidParentheses2(parentheses))"
   ]
  },
  {
   "cell_type": "code",
   "execution_count": 26,
   "metadata": {},
   "outputs": [
    {
     "name": "stdout",
     "output_type": "stream",
     "text": [
      "1\n"
     ]
    }
   ],
   "source": [
    "a = ('(',1)\n",
    "print(a[1])"
   ]
  },
  {
   "cell_type": "code",
   "execution_count": 46,
   "metadata": {},
   "outputs": [
    {
     "name": "stdout",
     "output_type": "stream",
     "text": [
      "0 barfoo\n",
      "barfoo------\n",
      "1 arfoot\n",
      "2 rfooth\n",
      "3 foothe\n",
      "foothe------\n",
      "4 oothef\n",
      "5 othefo\n",
      "6 thefoo\n",
      "7 hefoob\n",
      "8 efooba\n",
      "9 foobar\n",
      "foobar------\n",
      "10 oobarm\n",
      "11 obarma\n",
      "12 barman\n",
      "barman------\n"
     ]
    },
    {
     "data": {
      "text/plain": [
       "[0, 9]"
      ]
     },
     "execution_count": 46,
     "metadata": {},
     "output_type": "execute_result"
    }
   ],
   "source": [
    "import collections\n",
    "def checkValid(string, words, n):\n",
    "    print(string+'------')\n",
    "    for i in range(0, len(string)-n+1, n):\n",
    "        sub = string[i:i+n]\n",
    "        if sub not in words:\n",
    "            return False\n",
    "        else:\n",
    "            if words[sub] == 1:\n",
    "                del words[sub]\n",
    "            else:\n",
    "                words[sub] -= 1\n",
    "    if words:\n",
    "        return False\n",
    "    return True\n",
    "\n",
    "def findSubstring(s, words):\n",
    "    if not s or not words:\n",
    "        return []\n",
    "    n, m, output = len(words[0]), len(words), []\n",
    "    words = collections.Counter(words)\n",
    "\n",
    "    for i in range(0, len(s)-(n*m)+1):\n",
    "        sub_string = s[i:i+(n*m)]\n",
    "        print(i, sub_string)\n",
    "        if sub_string[0:n] not in words:\n",
    "            continue\n",
    "        if checkValid(sub_string, words.copy(), n):  \n",
    "            output.append(i)\n",
    "    return output\n",
    "\n",
    "s = \"barfoothefoobarman\"\n",
    "words = [\"foo\",\"bar\"]\n",
    "findSubstring(s, words)"
   ]
  },
  {
   "cell_type": "code",
   "execution_count": 123,
   "metadata": {},
   "outputs": [
    {
     "data": {
      "text/plain": [
       "5"
      ]
     },
     "execution_count": 123,
     "metadata": {},
     "output_type": "execute_result"
    }
   ],
   "source": [
    "class Solution:\n",
    "    def findWords(self, wordSet, string):\n",
    "        string = ''.join(string)\n",
    "        output = []\n",
    "        for word in wordSet:\n",
    "            flag = True\n",
    "            for i, j in zip(string, word):\n",
    "                if i == '*':\n",
    "                    continue\n",
    "                elif i != j:\n",
    "                    flag = False\n",
    "            if flag:\n",
    "                output.append(word)\n",
    "        return output\n",
    "\n",
    "    def getNeighbours(self, word, wordSet):\n",
    "        wordList = list(word)\n",
    "        words = []\n",
    "        output = set()\n",
    "        for i in range(len(wordList)):\n",
    "            temp = wordList[i]\n",
    "            wordList[i] = '*'\n",
    "            words.append(''.join(wordList.copy()))\n",
    "            wordList[i] = temp\n",
    "\n",
    "        for w in words:\n",
    "            wordCombination = self.findWords(wordSet, w)\n",
    "            output.update(wordCombination)\n",
    "        return list(output)\n",
    "    \n",
    "    def ladderLength(self, beginWord: str, endWord: str, wordList) -> int:\n",
    "        wordSet = set(wordList)\n",
    "        queue = [beginWord]\n",
    "        level =  [1]\n",
    "        visited = set()\n",
    "        while queue:\n",
    "            last = queue.pop(0)\n",
    "            current_level = level.pop(0)\n",
    "            visited.add(last)  \n",
    "            neighbours = self.getNeighbours(last, wordSet)\n",
    "\n",
    "            if last == endWord:\n",
    "                return current_level\n",
    "\n",
    "            for neighbour in neighbours:\n",
    "                if neighbour not in visited:\n",
    "                    queue.append(neighbour)\n",
    "                    level.append(current_level + 1)\n",
    "        return 0\n",
    "        \n",
    "        \n",
    "        \n",
    "beginWord = \"hit\"\n",
    "endWord = \"cog\"\n",
    "wordList = [\"hot\",\"dot\",\"dog\",\"lot\",\"log\",\"cog\"]\n",
    "solution = Solution()\n",
    "solution.ladderLength(beginWord, endWord, wordList)"
   ]
  },
  {
   "cell_type": "markdown",
   "metadata": {},
   "source": [
    "### Longest Common Subsequence"
   ]
  },
  {
   "cell_type": "markdown",
   "metadata": {},
   "source": [
    "`Recursive`"
   ]
  },
  {
   "cell_type": "code",
   "execution_count": 13,
   "metadata": {},
   "outputs": [
    {
     "data": {
      "text/plain": [
       "3"
      ]
     },
     "execution_count": 13,
     "metadata": {},
     "output_type": "execute_result"
    }
   ],
   "source": [
    "def longest_common_subsequence(a, b): \n",
    "    def lcs_helper(a, b, i, j):\n",
    "        if a[i] == '*' or b[j] == '*':\n",
    "            return 0\n",
    "        elif a[i] == b[j]:\n",
    "            return 1 + lcs_helper(a, b, i+1, j+1)\n",
    "        else:\n",
    "            return max(lcs_helper(a, b, i+1, j), lcs_helper(a, b, i, j+1))\n",
    "    return lcs_helper(a, b, 0, 0)\n",
    "        \n",
    "a = \"ylqpejqbalahwr\"\n",
    "b = \"yrkzavgdmdgtqpg\"\n",
    "longest_common_subsequence(a+'*', b+'*')"
   ]
  },
  {
   "cell_type": "markdown",
   "metadata": {},
   "source": [
    "`Dynamic Progamming`"
   ]
  },
  {
   "cell_type": "code",
   "execution_count": 45,
   "metadata": {},
   "outputs": [
    {
     "name": "stdout",
     "output_type": "stream",
     "text": [
      "[1, 1, 1, 1, 1, 1]\n",
      "[1, 1, 1, 1, 1, 1]\n",
      "[1, 1, 1, 1, 1, 1]\n",
      "[1, 1, 1, 1, 1, 1]\n",
      "[1, 1, 1, 1, 1, 1]\n",
      "[1, 1, 1, 1, 1, 1]\n",
      "[1, 1, 1, 1, 1, 1]\n",
      "[1, 1, 1, 1, 1, 1]\n",
      "\n",
      "[0, 0, 0, 0, 0, 0]\n",
      "[0, 0, 0, 0, 0, 0]\n",
      "[0, 0, 0, 1, 1, 1]\n",
      "[0, 0, 0, 1, 2, 2]\n",
      "[0, 0, 0, 1, 2, 2]\n",
      "[0, 0, 0, 1, 2, 3]\n",
      "[0, 1, 1, 1, 2, 3]\n",
      "[0, 1, 2, 2, 2, 3]\n",
      "\n"
     ]
    },
    {
     "data": {
      "text/plain": [
       "3"
      ]
     },
     "execution_count": 45,
     "metadata": {},
     "output_type": "execute_result"
    }
   ],
   "source": [
    "def pprint(mat):\n",
    "    for i in mat:\n",
    "        print(i)\n",
    "    print()\n",
    "def longest_common_subsequence_dp(a, b): \n",
    "    dp = [[1 for _ in range(len(b)+1)] for _ in range(len(a)+1)]\n",
    "    pprint(dp)\n",
    "    \n",
    "    for i in range(len(a)+1):\n",
    "        for j in range(len(b)+1):\n",
    "            if i == 0 or j == 0:\n",
    "                dp[i][j] = 0\n",
    "            \n",
    "            elif a[i-1] == b[j-1]:\n",
    "                dp[i][j] = 1 + dp[i-1][j-1]\n",
    "            else:\n",
    "                dp[i][j] = max(dp[i-1][j], dp[i][j-1])\n",
    "    pprint(dp)\n",
    "    return dp[-1][-1]\n",
    "        \n",
    "        \n",
    "a = \"longest\"\n",
    "b = \"stone\"\n",
    "longest_common_subsequence_dp(a, b)"
   ]
  },
  {
   "cell_type": "code",
   "execution_count": 50,
   "metadata": {},
   "outputs": [
    {
     "name": "stderr",
     "output_type": "stream",
     "text": [
      "/Library/Frameworks/Python.framework/Versions/3.7/lib/python3.7/site-packages/ipykernel_launcher.py:5: MatplotlibDeprecationWarning: \n",
      "The 'normed' kwarg was deprecated in Matplotlib 2.1 and will be removed in 3.1. Use 'density' instead.\n",
      "  \"\"\"\n"
     ]
    },
    {
     "data": {
      "image/png": "[encoded data removed]",
      "text/plain": [
       "<Figure size 432x288 with 1 Axes>"
      ]
     },
     "metadata": {
      "needs_background": "light"
     },
     "output_type": "display_data"
    }
   ],
   "source": [
    "import numpy as np\n",
    "import matplotlib.pyplot as plt\n",
    "x = np.random.randn(10000)  # example data, random normal distribution\n",
    "num_bins = 50\n",
    "n, bins, patches = plt.hist(x, num_bins, normed=1, facecolor=\"green\", alpha=0.5)\n",
    "plt.xlabel(r\"Description of $x$ coordinate (units)\")\n",
    "plt.ylabel(r\"Description of $y$ coordinate (units)\")\n",
    "plt.title(r\"Histogram title here (remove for papers)\")\n",
    "plt.show();"
   ]
  },
  {
   "cell_type": "markdown",
   "metadata": {},
   "source": [
    "<table>\n",
    "  <tr>\n",
    "    <th>Header 1</th>\n",
    "    <th>Header 2</th>\n",
    "  </tr>\n",
    "  <tr>\n",
    "    <td>row 1, cell 1</td>\n",
    "    <td>row 1, cell 2</td>\n",
    "  </tr>\n",
    "  <tr>\n",
    "    <td>row 2, cell 1</td>\n",
    "    <td>row 2, cell 2</td>\n",
    "  </tr>\n",
    "</table>"
   ]
  },
  {
   "cell_type": "code",
   "execution_count": null,
   "metadata": {},
   "outputs": [],
   "source": []
  },
  {
   "cell_type": "code",
   "execution_count": null,
   "metadata": {},
   "outputs": [],
   "source": []
  },
  {
   "cell_type": "code",
   "execution_count": 84,
   "metadata": {},
   "outputs": [
    {
     "name": "stdout",
     "output_type": "stream",
     "text": [
      "[0, 0, 0, 0, 0, 0, 0, 0, 0, 0, 0, 0, 0, 0, 0, 0, 0, 0, 0, 0, 0, 0, 0, 0, 0, 0, 0, 0, 0, 0, 0, 0, 0, 0, 0, 0, 0, 0, 0, 0, 0, 0, 0, 0, 0, 0, 0, 0, 0, 0, 0, 0, 0, 0, 0, 0, 0, 0, 0, 0, 0, 0, 0, 0, 0, 0, 1, 1, 0, 0, 0, 0, 0, 0, 0, 0, 0, 0, 0, 0, 0, 0, 0, 0, 0, 0, 0, 0, 0, 0, 1, 0, 0, 0, 0, 0, 0, 3, 1, 1, 1, 1, 0, 0, 0, 0, 0, 0, 0, 0, 0, 0, 0, 0, 0, 0, 0, 0, 0, 0, 0, 0, 0, 0, 0, 0, 0, 0]\n"
     ]
    },
    {
     "data": {
      "text/plain": [
       "'Z'"
      ]
     },
     "execution_count": 84,
     "metadata": {},
     "output_type": "execute_result"
    }
   ],
   "source": [
    "def findNoneRepeating(string):\n",
    "    counter = [0]*128\n",
    "    for i in string:\n",
    "        counter[ord(i)] += 1\n",
    "    print(counter)\n",
    "    for i in string:\n",
    "        if counter[ord(i)] == 1:\n",
    "            return i\n",
    "            break\n",
    "def PalindromicSubstring(string):\n",
    "    l, r = 0, len(string)-1\n",
    "    \n",
    "    \n",
    "string = 'hellosannasmith' #sannas\n",
    "findNoneRepeating(string)"
   ]
  },
  {
   "cell_type": "code",
   "execution_count": 33,
   "metadata": {},
   "outputs": [
    {
     "data": {
      "text/plain": [
       "False"
      ]
     },
     "execution_count": 33,
     "metadata": {},
     "output_type": "execute_result"
    }
   ],
   "source": [
    "def binarySearch(arr, target):\n",
    "    l, r = 0, len(arr)-1\n",
    "    while l <= r: \n",
    "        mid = (l+r)//2\n",
    "        if arr[mid] == target:\n",
    "            print(\"GOT it\", mid)\n",
    "            return True\n",
    "        else:\n",
    "            if arr[mid] < target:\n",
    "                l = mid + 1\n",
    "            else:\n",
    "                r = mid - 1\n",
    "    return False\n",
    "\n",
    "def searchIn2D(matrix, target):\n",
    "    \n",
    "    for row in matrix:\n",
    "        if row[0] <= target <= row[-1]:\n",
    "            if binarySearch(row, target):\n",
    "                return True\n",
    "    return False\n",
    "                \n",
    "matrix1 = [[1, 4, 7, 11, 15],\n",
    "           [2, 5, 8, 12, 19],\n",
    "           [3, 6, 9, 16, 22],\n",
    "           [10, 13, 14, 17, 24],\n",
    "           [18, 21, 23, 26, 30]]\n",
    "target = 20\n",
    "searchIn2D(matrix1, target)"
   ]
  },
  {
   "cell_type": "markdown",
   "metadata": {},
   "source": [
    "### `minimum substring with all character`"
   ]
  },
  {
   "cell_type": "code",
   "execution_count": 86,
   "metadata": {},
   "outputs": [
    {
     "data": {
      "text/plain": [
       "'banc'"
      ]
     },
     "execution_count": 86,
     "metadata": {},
     "output_type": "execute_result"
    }
   ],
   "source": [
    "def minSubstringWithAllChars(s, t):\n",
    "    l, r = 0, 0\n",
    "    t_set = set(t)\n",
    "    visited = 0\n",
    "    min_string = ''*len(s)\n",
    "    \n",
    "    while r < len(s):\n",
    "        if s[r] in t_set:\n",
    "            visited += 1\n",
    "            t_set.remove(s[r])\n",
    "            \n",
    "        if visited == len(t):\n",
    "            t_set =set(t)\n",
    "            min_string = s[l:r+1]\n",
    "            visited = 0\n",
    "            l += 1\n",
    "            r = l\n",
    "            continue\n",
    "        r += 1\n",
    "    return min_string\n",
    "minSubstringWithAllChars(\"adobecodebanc\", \"abc\")"
   ]
  },
  {
   "cell_type": "code",
   "execution_count": 163,
   "metadata": {},
   "outputs": [
    {
     "name": "stdout",
     "output_type": "stream",
     "text": [
      "{'new', 'need', 'window', 'i', 'a'}\n",
      "{'really', 'replace', 'window', 'to', 'my', 'want', 'i'}\n",
      "{'my', 'window', 'replace'}\n",
      "{'new', 'window', 'a', 'want', 'i'}\n",
      "{'new', 'carpet', 'a', 'want', 'i'}\n",
      "{'my', 'carpet', 'replace'}\n",
      "\n",
      "[374, 2845, 83, 1848, 1837, 1500]\n",
      "374 1848 defaultdict(<class 'set'>, {0: {0, 3}})\n",
      "defaultdict(<class 'set'>, {0: {0, 3, 4}, 1: {2, 5}})\n"
     ]
    },
    {
     "data": {
      "text/plain": [
       "[[374, 1837, 1848], [83, 1500]]"
      ]
     },
     "execution_count": 163,
     "metadata": {},
     "output_type": "execute_result"
    }
   ],
   "source": [
    "from collections import defaultdict\n",
    "def pprint(mat):\n",
    "    for row in mat:\n",
    "        print(row)\n",
    "    print()\n",
    "    \n",
    "def get_tokens(requests):\n",
    "    punctuations = {'.', ',', '!', '?'}\n",
    "    out = []\n",
    "    for request in requests:\n",
    "        filtered_request = ''\n",
    "        for i in request.lower():\n",
    "            if i not in punctuations:\n",
    "                filtered_request += i\n",
    "        out.append(set(filtered_request.split()))\n",
    "    return out\n",
    "        \n",
    "def jaccard_index(a:set, b:set)->float:\n",
    "    return round(len(a.intersection(b))/len(a.union(b)), 2)\n",
    "\n",
    "def spamClusterization(requests, ids, threshold):\n",
    "    tokens = get_tokens(requests)\n",
    "    pprint(tokens)\n",
    "    out = []\n",
    "    jaccards = [[0 for _ in range(len(requests))] for _ in range(len(requests))]\n",
    "    \n",
    "    for i in range(len(jaccards)):\n",
    "        for j in range(len(jaccards)):\n",
    "            if i != j:   \n",
    "                jaccards[i][j] = jaccard_index(tokens[i], tokens[j])\n",
    "#     pprint(jaccards)\n",
    "    print(ids)\n",
    "    \n",
    "    clusters = defaultdict(set)\n",
    "    cluster = 0\n",
    "    for i in range(len(jaccards)):\n",
    "        for j in range(len(jaccards)):\n",
    "            if jaccards[i][j] >= threshold:\n",
    "            \n",
    "                if clusters:\n",
    "                    for clst in clusters.copy():\n",
    "                        if i in clusters[clst] or j in clusters[clst]:\n",
    "                            clusters[clst].update([i, j])\n",
    "                        else:\n",
    "                            clusters[cluster+1] = set([i, j])\n",
    "                else:\n",
    "                    clusters[cluster] = set([i, j])\n",
    "                        \n",
    "                    print(ids[i], ids[j], clusters)\n",
    "    print(clusters)\n",
    "    for cluster in clusters:\n",
    "        if len(clusters[cluster]) > 1:\n",
    "            out.append(sorted([ids[num] for num in clusters[cluster]]))\n",
    "    return out\n",
    "    \n",
    "        \n",
    "                \n",
    "    \n",
    "        \n",
    "    \n",
    "\n",
    "requests = [\"I need a new window\", \n",
    "            \"I really, really want to replace my window\", \n",
    "            \"Replace mY !!.windoW........\", \n",
    "            \"I want a new window?\", \n",
    "            \"I want a new carpet, i want a new carpet, I WANT A NEW CARPET\", \n",
    "            \"RePlAcE!!! !!!My!!! !!!CaRpEt!!!!\"]\n",
    "ids = [374, 2845, 83, 1848, 1837, 1500]\n",
    "threshold = 0.5\n",
    "spamClusterization(requests, ids, threshold) # []"
   ]
  },
  {
   "cell_type": "code",
   "execution_count": null,
   "metadata": {},
   "outputs": [],
   "source": [
    "def get_index(self, S: str, i: int):\n",
    "    count = 1\n",
    "    while i>=0:\n",
    "        if S[i] == \"#\":\n",
    "            count+=1\n",
    "        else:\n",
    "            count-=1\n",
    "        if count == 0:\n",
    "            break\n",
    "        i -=1\n",
    "    return i\n",
    "def backspaceCompare(self, S: str, T: str) -> bool:\n",
    "    i = len(S) - 1\n",
    "    j = len(T) - 1\n",
    "\n",
    "    while i>=0 or j>=0:\n",
    "        i = self.get_index(S,i)\n",
    "        j = self.get_index(T,j)\n",
    "\n",
    "        print(i,j)\n",
    "        if i < 0 and j < 0:\n",
    "            return True\n",
    "        elif i < 0 or j < 0:\n",
    "            return False\n",
    "        elif S[i] != T[j]:\n",
    "            return False\n",
    "        i -=1\n",
    "        j -=1\n",
    "\n",
    "    return True"
   ]
  },
  {
   "cell_type": "code",
   "execution_count": 207,
   "metadata": {},
   "outputs": [
    {
     "name": "stdout",
     "output_type": "stream",
     "text": [
      "['w', 't', 'b']\n",
      "['w', 't']\n",
      "w w\n",
      "t t\n"
     ]
    }
   ],
   "source": [
    "import itertools\n",
    "def F(S):\n",
    "    skip = 0\n",
    "    for x in reversed(S):\n",
    "        if x == '#':\n",
    "            skip += 1\n",
    "        elif skip:\n",
    "            skip -= 1\n",
    "        else:\n",
    "            yield x\n",
    "\n",
    "def backspaceCompare(S, T):\n",
    "    \n",
    "    \n",
    "    for x, y in zip(F(S), F(T)):\n",
    "        print(x, y)\n",
    "#     return all(x == y for x, y in itertools.zip_longest(F(S), F(T)))\n",
    "        \n",
    "        \n",
    "# S = \"a#c\"\n",
    "# T = \"b\"\n",
    "S = \"bxj##tw\"\n",
    "T = \"bxj###tw\"\n",
    "print([i for i in F(S)])\n",
    "print([i for i in F(T)])\n",
    "backspaceCompare(S, T)\n",
    "    \n",
    "    "
   ]
  },
  {
   "cell_type": "code",
   "execution_count": 224,
   "metadata": {},
   "outputs": [
    {
     "name": "stdout",
     "output_type": "stream",
     "text": [
      "[92, 92, 92, 92, 92, 92, 92, 92, 92, 92]\n",
      "[39, 89, 93, 47, 72, 72, 14, 10, 8, 0]\n"
     ]
    }
   ],
   "source": [
    "import numpy as np\n",
    "\n",
    "def F(num=np.random.randint(100)):\n",
    "    return num\n",
    "\n",
    "def F2(num=None):\n",
    "    \n",
    "    if num == None:\n",
    "        num = np.random.randint(100)\n",
    "        return num\n",
    "print([F() for _ in range(10)])\n",
    "print([F2() for _ in range(10)])"
   ]
  },
  {
   "cell_type": "code",
   "execution_count": null,
   "metadata": {},
   "outputs": [],
   "source": []
  },
  {
   "cell_type": "code",
   "execution_count": null,
   "metadata": {},
   "outputs": [],
   "source": []
  }
 ],
 "metadata": {
  "kernelspec": {
   "display_name": "Python 3",
   "language": "python",
   "name": "python3"
  },
  "language_info": {
   "codemirror_mode": {
    "name": "ipython",
    "version": 3
   },
   "file_extension": ".py",
   "mimetype": "text/x-python",
   "name": "python",
   "nbconvert_exporter": "python",
   "pygments_lexer": "ipython3",
   "version": "3.7.0b1"
  }
 },
 "nbformat": 4,
 "nbformat_minor": 2
}
