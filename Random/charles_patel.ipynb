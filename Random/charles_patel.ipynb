{
 "cells": [
  {
   "cell_type": "markdown",
   "metadata": {},
   "source": [
    "### Q1"
   ]
  },
  {
   "cell_type": "code",
   "execution_count": 1,
   "metadata": {},
   "outputs": [
    {
     "name": "stdout",
     "output_type": "stream",
     "text": [
      "WNE\n",
      "ESW\n",
      "NWS\n"
     ]
    }
   ],
   "source": [
    "def permutation(directions, letter):\n",
    "    if not directions:\n",
    "        return ''\n",
    "    output = ''\n",
    "    mapping = {'a': {'N':'E', 'S':'W', 'E':'N', 'W':'S'}, \n",
    "               'b': {'S':'E', 'N':'W', 'W':'N', 'E':'S'},\n",
    "               'c': {'W':'E', 'E':'W', 'S':'N', 'N':'S'}}\n",
    "    \n",
    "    for direction in directions:\n",
    "            output += mapping[letter][direction]\n",
    "    return output\n",
    "print(permutation('SEN', 'a'))\n",
    "print(permutation('SEN', 'b'))\n",
    "print(permutation('SEN', 'c'))"
   ]
  },
  {
   "cell_type": "code",
   "execution_count": 2,
   "metadata": {},
   "outputs": [
    {
     "name": "stdout",
     "output_type": "stream",
     "text": [
      "EENNWSWN\n",
      "NNEESWSEENNEESWSEEEENNWSWNNEENNWSWNNEENNWSWNWWWSSENESSSSWWNENWWSSWWNENWNEENNWSWN\n",
      "EENNWSWNNEENNWSWNNNNEESWSEENNEESWSEENNEESWSESSSWWNENWWWWSSENESSWWSSENESENNEESWSEEEENNWSWNNEENNWSWNNNNEESWSEENNEESWSEENNEESWSESSSWWNENWWWWSSENESSWWSSENESENNEESWSEENNEESWSEENNEESWSEEEENNWSWNNEENNWSWNNEENNWSWNWWWSSENESSSSWWNENWWSSWWNENWNEENNWSWNNNNEESWSEENNEESWSEEEENNWSWNNEENNWSWNNEENNWSWNWWWSSENESSSSWWNENWWSSWWNENWNEENNWSWNNNNEESWSEENNEESWSEEEENNWSWNNEENNWSWNNEENNWSWNWWWSSENESSSSWWNENWWSSWWNENWNEENNWSWNWSSWWNENWWSSWWNENWWWWSSENESSWWSSENESSWWSSENESEEENNWSWNNNNEESWSEENNEESWSESWWSSENESSWWSSENESSWWSSENESSSSWWNENWWSSWWNENWWSSWWNENWNNNEESWSEEEENNWSWNNEENNWSWNWSSWWNENWWWWSSENESSWWSSENESSSSWWNENWWSSWWNENWWSSWWNENWNNNEESWSEEEENNWSWNNEENNWSWNWSSWWNENWNNNEESWSEENNEESWSEEEENNWSWNNEENNWSWNNEENNWSWNWWWSSENESSSSWWNENWWSSWWNENWNEENNWSWN\n"
     ]
    }
   ],
   "source": [
    "def path(k):\n",
    "    if k == 0:\n",
    "        return ''\n",
    "    else:\n",
    "        return \\\n",
    "            permutation(path(k-1), 'a')+ 'E'+ \\\n",
    "            permutation(path(k-1), 'a') +'E'+ \\\n",
    "            path(k-1) +'N'+ path(k-1)+ 'N'+ path(k-1) +'W'+ \\\n",
    "            permutation(path(k-1), 'c') +'S'+\\\n",
    "            permutation(path(k-1), 'b') +'W'+\\\n",
    "            permutation(path(k-1), 'b') +'N'+ path(k-1) \n",
    "    return path(k)\n",
    "print(path(1))\n",
    "print(path(2))\n",
    "print(path(3))"
   ]
  },
  {
   "cell_type": "code",
   "execution_count": 3,
   "metadata": {},
   "outputs": [
    {
     "name": "stdout",
     "output_type": "stream",
     "text": [
      "20\n",
      "43\n",
      "728\n"
     ]
    }
   ],
   "source": [
    "def sleepwalker(k, sx, sy, tx, ty):\n",
    "    grid_path = path(k)\n",
    "    x, y = 1, 1\n",
    "    counter = 0\n",
    "    flag = False\n",
    "    \n",
    "    for i in range(len(grid_path)): \n",
    "        if (x, y) == (tx, ty):\n",
    "            flag = False\n",
    "        \n",
    "        if not flag and (x, y) == (sx, sy):\n",
    "            flag = True\n",
    "    \n",
    "        if grid_path[i] == 'N':\n",
    "            y += 1\n",
    "        elif grid_path[i] == 'S':\n",
    "            y -= 1\n",
    "        elif grid_path[i] == 'E':\n",
    "            x += 1\n",
    "        elif grid_path[i] == 'W':\n",
    "            x -= 1\n",
    "\n",
    "        if flag:\n",
    "            counter += 1   \n",
    "    return counter\n",
    "\n",
    "print(sleepwalker(2, 3, 2, 7, 2))\n",
    "print(sleepwalker(2, 9, 6, 3, 7))\n",
    "print(sleepwalker(3, 1, 1, 1, 27))"
   ]
  },
  {
   "cell_type": "markdown",
   "metadata": {},
   "source": [
    "### Q2"
   ]
  },
  {
   "cell_type": "code",
   "execution_count": 4,
   "metadata": {},
   "outputs": [
    {
     "name": "stdout",
     "output_type": "stream",
     "text": [
      "Grandma Eve's cuckoo clock seems broken.\n",
      "When the cat's away, the mice will play.\n"
     ]
    }
   ],
   "source": [
    "def translateWord(word):\n",
    "    output = ''\n",
    "    vowels = 'aeiouAEIOU'\n",
    "    i  = 0\n",
    "    while i < len(word):\n",
    "        if word[i] in vowels:\n",
    "            vowel = word[i]\n",
    "            i += 1\n",
    "            while  i < len(word) and word[i] in vowels:\n",
    "                vowel += word[i]\n",
    "                i += 1\n",
    "            output += vowel\n",
    "            i += 1 + len(vowel)\n",
    "        else:\n",
    "            output += word[i]\n",
    "            i += 1\n",
    "    return output\n",
    "            \n",
    "    \n",
    "def translate(sentense):\n",
    "    words = sentense.split()\n",
    "    output  = []\n",
    "    for word in words:\n",
    "        output.append(translateWord(word))\n",
    "    return ' '.join(output)\n",
    "\n",
    "sentense1 = 'Grapandmapa Epevepe\\'s cupucko0opoo clopock seepeems bropokepen.'\n",
    "sentense2 = 'Whepen thepe capat\\'s apawapay, thepe mipicepe wipill plapay.'\n",
    "print(translate(sentense1))\n",
    "print(translate(sentense2))"
   ]
  },
  {
   "cell_type": "markdown",
   "metadata": {},
   "source": [
    "### Q3"
   ]
  },
  {
   "cell_type": "code",
   "execution_count": 5,
   "metadata": {
    "scrolled": true
   },
   "outputs": [
    {
     "name": "stdout",
     "output_type": "stream",
     "text": [
      "Libya\n",
      "Libya\n",
      "Egypt\n",
      "stop\n",
      "the outsider is \"Egypt\"\n"
     ]
    }
   ],
   "source": [
    "from collections import Counter, defaultdict\n",
    "\n",
    "word_store = defaultdict(int)\n",
    "while True:\n",
    "    word = input()\n",
    "    \n",
    "    if word == 'stop':\n",
    "        \n",
    "        values_counter = Counter(word_store.values())\n",
    "\n",
    "        if len(values_counter) == 1:\n",
    "            print('there is no outsider')\n",
    "\n",
    "        if 1 in values_counter:\n",
    "            if values_counter[1] == 1:\n",
    "                for word, count in word_store.items():\n",
    "                    if count == 1:\n",
    "                        print('the outsider is \"{}\"'.format(word))\n",
    "            else:\n",
    "                print('can\\'t be determined')\n",
    "        break\n",
    "    word_store[word] += 1"
   ]
  },
  {
   "cell_type": "markdown",
   "metadata": {},
   "source": [
    "### Q4"
   ]
  },
  {
   "cell_type": "code",
   "execution_count": 6,
   "metadata": {},
   "outputs": [
    {
     "name": "stdout",
     "output_type": "stream",
     "text": [
      "you have hypothermia\n",
      "you have a normal body temperature\n",
      "you have a fever\n"
     ]
    }
   ],
   "source": [
    "import math\n",
    "\n",
    "def findTemperature(temperature):\n",
    "    e = math.e\n",
    "    if temperature == 0:\n",
    "        return 'you have hypothermia'  \n",
    "    \n",
    "    approx = 100/temperature\n",
    "    \n",
    "    if approx < e-0.1:\n",
    "        return 'you have a fever'\n",
    "    elif approx > e+0.1:\n",
    "        return 'you have hypothermia'\n",
    "    else:\n",
    "        return 'you have a normal body temperature'\n",
    "    \n",
    "print(findTemperature(32.1))\n",
    "print(findTemperature(37.8))\n",
    "print(findTemperature(42.6))"
   ]
  },
  {
   "cell_type": "markdown",
   "metadata": {},
   "source": [
    "### Q5"
   ]
  },
  {
   "cell_type": "code",
   "execution_count": 7,
   "metadata": {},
   "outputs": [
    {
     "name": "stdout",
     "output_type": "stream",
     "text": [
      "18446744073709551615\n",
      "461168601842738 kg\n",
      "92233720368547 km\n",
      "75 m\n"
     ]
    }
   ],
   "source": [
    "single_grain_weight_mg = 25\n",
    "single_grain_length_mm = 5\n",
    "single_grain_volume_mm = 5\n",
    "belgium_area_km = 30528\n",
    "\n",
    "total_grains = 0\n",
    "total_weight_mg = 0\n",
    "total_length_mm = 0\n",
    "total_volume_mm = 0\n",
    "\n",
    "for square in range(0, 64):\n",
    "    total_grains += 2**square\n",
    "print(total_grains)\n",
    "\n",
    "total_weight_mg = single_grain_weight_mg*total_grains\n",
    "total_length_mm = single_grain_length_mm*total_grains\n",
    "total_volume_km = single_grain_volume_mm**3 * total_grains * 1.0e-18\n",
    "\n",
    "\n",
    "print('{} kg'.format(int(total_weight_mg*1.0e-6)))\n",
    "print('{} km'.format(int(total_length_mm*1.0e-6)))\n",
    "print('{} m'.format(int((total_volume_km/belgium_area_km)*1000)))"
   ]
  },
  {
   "cell_type": "code",
   "execution_count": null,
   "metadata": {},
   "outputs": [],
   "source": []
  }
 ],
 "metadata": {
  "kernelspec": {
   "display_name": "Python 3",
   "language": "python",
   "name": "python3"
  },
  "language_info": {
   "codemirror_mode": {
    "name": "ipython",
    "version": 3
   },
   "file_extension": ".py",
   "mimetype": "text/x-python",
   "name": "python",
   "nbconvert_exporter": "python",
   "pygments_lexer": "ipython3",
   "version": "3.7.0b1"
  }
 },
 "nbformat": 4,
 "nbformat_minor": 2
}
